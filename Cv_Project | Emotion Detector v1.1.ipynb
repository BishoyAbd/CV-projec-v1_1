{
  "cells": [
    {
      "cell_type": "markdown",
      "metadata": {
        "id": "view-in-github",
        "colab_type": "text"
      },
      "source": [
        "<a href=\"https://colab.research.google.com/github/BishoyAbd/CV-projec-v1_1/blob/master/Cv_Project%20%7C%20Emotion%20Detector%20v1.1.ipynb\" target=\"_parent\"><img src=\"https://colab.research.google.com/assets/colab-badge.svg\" alt=\"Open In Colab\"/></a>"
      ]
    },
    {
      "cell_type": "code",
      "source": [
        "! pip install -q kaggle\n",
        "from google.colab import files\n",
        "files.upload()\n",
        "\n",
        "!rm -r ~/.kaggle\n",
        "!mkdir ~/.kaggle\n",
        "!mv ./kaggle.json ~/.kaggle/\n",
        "!chmod 600 ~/.kaggle/kaggle.json\n",
        "!kaggle datasets list"
      ],
      "metadata": {
        "id": "zoER0EjIlZ5k",
        "colab": {
          "resources": {
            "http://localhost:8080/nbextensions/google.colab/files.js": {
              "data": "Ly8gQ29weXJpZ2h0IDIwMTcgR29vZ2xlIExMQwovLwovLyBMaWNlbnNlZCB1bmRlciB0aGUgQXBhY2hlIExpY2Vuc2UsIFZlcnNpb24gMi4wICh0aGUgIkxpY2Vuc2UiKTsKLy8geW91IG1heSBub3QgdXNlIHRoaXMgZmlsZSBleGNlcHQgaW4gY29tcGxpYW5jZSB3aXRoIHRoZSBMaWNlbnNlLgovLyBZb3UgbWF5IG9idGFpbiBhIGNvcHkgb2YgdGhlIExpY2Vuc2UgYXQKLy8KLy8gICAgICBodHRwOi8vd3d3LmFwYWNoZS5vcmcvbGljZW5zZXMvTElDRU5TRS0yLjAKLy8KLy8gVW5sZXNzIHJlcXVpcmVkIGJ5IGFwcGxpY2FibGUgbGF3IG9yIGFncmVlZCB0byBpbiB3cml0aW5nLCBzb2Z0d2FyZQovLyBkaXN0cmlidXRlZCB1bmRlciB0aGUgTGljZW5zZSBpcyBkaXN0cmlidXRlZCBvbiBhbiAiQVMgSVMiIEJBU0lTLAovLyBXSVRIT1VUIFdBUlJBTlRJRVMgT1IgQ09ORElUSU9OUyBPRiBBTlkgS0lORCwgZWl0aGVyIGV4cHJlc3Mgb3IgaW1wbGllZC4KLy8gU2VlIHRoZSBMaWNlbnNlIGZvciB0aGUgc3BlY2lmaWMgbGFuZ3VhZ2UgZ292ZXJuaW5nIHBlcm1pc3Npb25zIGFuZAovLyBsaW1pdGF0aW9ucyB1bmRlciB0aGUgTGljZW5zZS4KCi8qKgogKiBAZmlsZW92ZXJ2aWV3IEhlbHBlcnMgZm9yIGdvb2dsZS5jb2xhYiBQeXRob24gbW9kdWxlLgogKi8KKGZ1bmN0aW9uKHNjb3BlKSB7CmZ1bmN0aW9uIHNwYW4odGV4dCwgc3R5bGVBdHRyaWJ1dGVzID0ge30pIHsKICBjb25zdCBlbGVtZW50ID0gZG9jdW1lbnQuY3JlYXRlRWxlbWVudCgnc3BhbicpOwogIGVsZW1lbnQudGV4dENvbnRlbnQgPSB0ZXh0OwogIGZvciAoY29uc3Qga2V5IG9mIE9iamVjdC5rZXlzKHN0eWxlQXR0cmlidXRlcykpIHsKICAgIGVsZW1lbnQuc3R5bGVba2V5XSA9IHN0eWxlQXR0cmlidXRlc1trZXldOwogIH0KICByZXR1cm4gZWxlbWVudDsKfQoKLy8gTWF4IG51bWJlciBvZiBieXRlcyB3aGljaCB3aWxsIGJlIHVwbG9hZGVkIGF0IGEgdGltZS4KY29uc3QgTUFYX1BBWUxPQURfU0laRSA9IDEwMCAqIDEwMjQ7CgpmdW5jdGlvbiBfdXBsb2FkRmlsZXMoaW5wdXRJZCwgb3V0cHV0SWQpIHsKICBjb25zdCBzdGVwcyA9IHVwbG9hZEZpbGVzU3RlcChpbnB1dElkLCBvdXRwdXRJZCk7CiAgY29uc3Qgb3V0cHV0RWxlbWVudCA9IGRvY3VtZW50LmdldEVsZW1lbnRCeUlkKG91dHB1dElkKTsKICAvLyBDYWNoZSBzdGVwcyBvbiB0aGUgb3V0cHV0RWxlbWVudCB0byBtYWtlIGl0IGF2YWlsYWJsZSBmb3IgdGhlIG5leHQgY2FsbAogIC8vIHRvIHVwbG9hZEZpbGVzQ29udGludWUgZnJvbSBQeXRob24uCiAgb3V0cHV0RWxlbWVudC5zdGVwcyA9IHN0ZXBzOwoKICByZXR1cm4gX3VwbG9hZEZpbGVzQ29udGludWUob3V0cHV0SWQpOwp9CgovLyBUaGlzIGlzIHJvdWdobHkgYW4gYXN5bmMgZ2VuZXJhdG9yIChub3Qgc3VwcG9ydGVkIGluIHRoZSBicm93c2VyIHlldCksCi8vIHdoZXJlIHRoZXJlIGFyZSBtdWx0aXBsZSBhc3luY2hyb25vdXMgc3RlcHMgYW5kIHRoZSBQeXRob24gc2lkZSBpcyBnb2luZwovLyB0byBwb2xsIGZvciBjb21wbGV0aW9uIG9mIGVhY2ggc3RlcC4KLy8gVGhpcyB1c2VzIGEgUHJvbWlzZSB0byBibG9jayB0aGUgcHl0aG9uIHNpZGUgb24gY29tcGxldGlvbiBvZiBlYWNoIHN0ZXAsCi8vIHRoZW4gcGFzc2VzIHRoZSByZXN1bHQgb2YgdGhlIHByZXZpb3VzIHN0ZXAgYXMgdGhlIGlucHV0IHRvIHRoZSBuZXh0IHN0ZXAuCmZ1bmN0aW9uIF91cGxvYWRGaWxlc0NvbnRpbnVlKG91dHB1dElkKSB7CiAgY29uc3Qgb3V0cHV0RWxlbWVudCA9IGRvY3VtZW50LmdldEVsZW1lbnRCeUlkKG91dHB1dElkKTsKICBjb25zdCBzdGVwcyA9IG91dHB1dEVsZW1lbnQuc3RlcHM7CgogIGNvbnN0IG5leHQgPSBzdGVwcy5uZXh0KG91dHB1dEVsZW1lbnQubGFzdFByb21pc2VWYWx1ZSk7CiAgcmV0dXJuIFByb21pc2UucmVzb2x2ZShuZXh0LnZhbHVlLnByb21pc2UpLnRoZW4oKHZhbHVlKSA9PiB7CiAgICAvLyBDYWNoZSB0aGUgbGFzdCBwcm9taXNlIHZhbHVlIHRvIG1ha2UgaXQgYXZhaWxhYmxlIHRvIHRoZSBuZXh0CiAgICAvLyBzdGVwIG9mIHRoZSBnZW5lcmF0b3IuCiAgICBvdXRwdXRFbGVtZW50Lmxhc3RQcm9taXNlVmFsdWUgPSB2YWx1ZTsKICAgIHJldHVybiBuZXh0LnZhbHVlLnJlc3BvbnNlOwogIH0pOwp9CgovKioKICogR2VuZXJhdG9yIGZ1bmN0aW9uIHdoaWNoIGlzIGNhbGxlZCBiZXR3ZWVuIGVhY2ggYXN5bmMgc3RlcCBvZiB0aGUgdXBsb2FkCiAqIHByb2Nlc3MuCiAqIEBwYXJhbSB7c3RyaW5nfSBpbnB1dElkIEVsZW1lbnQgSUQgb2YgdGhlIGlucHV0IGZpbGUgcGlja2VyIGVsZW1lbnQuCiAqIEBwYXJhbSB7c3RyaW5nfSBvdXRwdXRJZCBFbGVtZW50IElEIG9mIHRoZSBvdXRwdXQgZGlzcGxheS4KICogQHJldHVybiB7IUl0ZXJhYmxlPCFPYmplY3Q+fSBJdGVyYWJsZSBvZiBuZXh0IHN0ZXBzLgogKi8KZnVuY3Rpb24qIHVwbG9hZEZpbGVzU3RlcChpbnB1dElkLCBvdXRwdXRJZCkgewogIGNvbnN0IGlucHV0RWxlbWVudCA9IGRvY3VtZW50LmdldEVsZW1lbnRCeUlkKGlucHV0SWQpOwogIGlucHV0RWxlbWVudC5kaXNhYmxlZCA9IGZhbHNlOwoKICBjb25zdCBvdXRwdXRFbGVtZW50ID0gZG9jdW1lbnQuZ2V0RWxlbWVudEJ5SWQob3V0cHV0SWQpOwogIG91dHB1dEVsZW1lbnQuaW5uZXJIVE1MID0gJyc7CgogIGNvbnN0IHBpY2tlZFByb21pc2UgPSBuZXcgUHJvbWlzZSgocmVzb2x2ZSkgPT4gewogICAgaW5wdXRFbGVtZW50LmFkZEV2ZW50TGlzdGVuZXIoJ2NoYW5nZScsIChlKSA9PiB7CiAgICAgIHJlc29sdmUoZS50YXJnZXQuZmlsZXMpOwogICAgfSk7CiAgfSk7CgogIGNvbnN0IGNhbmNlbCA9IGRvY3VtZW50LmNyZWF0ZUVsZW1lbnQoJ2J1dHRvbicpOwogIGlucHV0RWxlbWVudC5wYXJlbnRFbGVtZW50LmFwcGVuZENoaWxkKGNhbmNlbCk7CiAgY2FuY2VsLnRleHRDb250ZW50ID0gJ0NhbmNlbCB1cGxvYWQnOwogIGNvbnN0IGNhbmNlbFByb21pc2UgPSBuZXcgUHJvbWlzZSgocmVzb2x2ZSkgPT4gewogICAgY2FuY2VsLm9uY2xpY2sgPSAoKSA9PiB7CiAgICAgIHJlc29sdmUobnVsbCk7CiAgICB9OwogIH0pOwoKICAvLyBXYWl0IGZvciB0aGUgdXNlciB0byBwaWNrIHRoZSBmaWxlcy4KICBjb25zdCBmaWxlcyA9IHlpZWxkIHsKICAgIHByb21pc2U6IFByb21pc2UucmFjZShbcGlja2VkUHJvbWlzZSwgY2FuY2VsUHJvbWlzZV0pLAogICAgcmVzcG9uc2U6IHsKICAgICAgYWN0aW9uOiAnc3RhcnRpbmcnLAogICAgfQogIH07CgogIGNhbmNlbC5yZW1vdmUoKTsKCiAgLy8gRGlzYWJsZSB0aGUgaW5wdXQgZWxlbWVudCBzaW5jZSBmdXJ0aGVyIHBpY2tzIGFyZSBub3QgYWxsb3dlZC4KICBpbnB1dEVsZW1lbnQuZGlzYWJsZWQgPSB0cnVlOwoKICBpZiAoIWZpbGVzKSB7CiAgICByZXR1cm4gewogICAgICByZXNwb25zZTogewogICAgICAgIGFjdGlvbjogJ2NvbXBsZXRlJywKICAgICAgfQogICAgfTsKICB9CgogIGZvciAoY29uc3QgZmlsZSBvZiBmaWxlcykgewogICAgY29uc3QgbGkgPSBkb2N1bWVudC5jcmVhdGVFbGVtZW50KCdsaScpOwogICAgbGkuYXBwZW5kKHNwYW4oZmlsZS5uYW1lLCB7Zm9udFdlaWdodDogJ2JvbGQnfSkpOwogICAgbGkuYXBwZW5kKHNwYW4oCiAgICAgICAgYCgke2ZpbGUudHlwZSB8fCAnbi9hJ30pIC0gJHtmaWxlLnNpemV9IGJ5dGVzLCBgICsKICAgICAgICBgbGFzdCBtb2RpZmllZDogJHsKICAgICAgICAgICAgZmlsZS5sYXN0TW9kaWZpZWREYXRlID8gZmlsZS5sYXN0TW9kaWZpZWREYXRlLnRvTG9jYWxlRGF0ZVN0cmluZygpIDoKICAgICAgICAgICAgICAgICAgICAgICAgICAgICAgICAgICAgJ24vYSd9IC0gYCkpOwogICAgY29uc3QgcGVyY2VudCA9IHNwYW4oJzAlIGRvbmUnKTsKICAgIGxpLmFwcGVuZENoaWxkKHBlcmNlbnQpOwoKICAgIG91dHB1dEVsZW1lbnQuYXBwZW5kQ2hpbGQobGkpOwoKICAgIGNvbnN0IGZpbGVEYXRhUHJvbWlzZSA9IG5ldyBQcm9taXNlKChyZXNvbHZlKSA9PiB7CiAgICAgIGNvbnN0IHJlYWRlciA9IG5ldyBGaWxlUmVhZGVyKCk7CiAgICAgIHJlYWRlci5vbmxvYWQgPSAoZSkgPT4gewogICAgICAgIHJlc29sdmUoZS50YXJnZXQucmVzdWx0KTsKICAgICAgfTsKICAgICAgcmVhZGVyLnJlYWRBc0FycmF5QnVmZmVyKGZpbGUpOwogICAgfSk7CiAgICAvLyBXYWl0IGZvciB0aGUgZGF0YSB0byBiZSByZWFkeS4KICAgIGxldCBmaWxlRGF0YSA9IHlpZWxkIHsKICAgICAgcHJvbWlzZTogZmlsZURhdGFQcm9taXNlLAogICAgICByZXNwb25zZTogewogICAgICAgIGFjdGlvbjogJ2NvbnRpbnVlJywKICAgICAgfQogICAgfTsKCiAgICAvLyBVc2UgYSBjaHVua2VkIHNlbmRpbmcgdG8gYXZvaWQgbWVzc2FnZSBzaXplIGxpbWl0cy4gU2VlIGIvNjIxMTU2NjAuCiAgICBsZXQgcG9zaXRpb24gPSAwOwogICAgZG8gewogICAgICBjb25zdCBsZW5ndGggPSBNYXRoLm1pbihmaWxlRGF0YS5ieXRlTGVuZ3RoIC0gcG9zaXRpb24sIE1BWF9QQVlMT0FEX1NJWkUpOwogICAgICBjb25zdCBjaHVuayA9IG5ldyBVaW50OEFycmF5KGZpbGVEYXRhLCBwb3NpdGlvbiwgbGVuZ3RoKTsKICAgICAgcG9zaXRpb24gKz0gbGVuZ3RoOwoKICAgICAgY29uc3QgYmFzZTY0ID0gYnRvYShTdHJpbmcuZnJvbUNoYXJDb2RlLmFwcGx5KG51bGwsIGNodW5rKSk7CiAgICAgIHlpZWxkIHsKICAgICAgICByZXNwb25zZTogewogICAgICAgICAgYWN0aW9uOiAnYXBwZW5kJywKICAgICAgICAgIGZpbGU6IGZpbGUubmFtZSwKICAgICAgICAgIGRhdGE6IGJhc2U2NCwKICAgICAgICB9LAogICAgICB9OwoKICAgICAgbGV0IHBlcmNlbnREb25lID0gZmlsZURhdGEuYnl0ZUxlbmd0aCA9PT0gMCA/CiAgICAgICAgICAxMDAgOgogICAgICAgICAgTWF0aC5yb3VuZCgocG9zaXRpb24gLyBmaWxlRGF0YS5ieXRlTGVuZ3RoKSAqIDEwMCk7CiAgICAgIHBlcmNlbnQudGV4dENvbnRlbnQgPSBgJHtwZXJjZW50RG9uZX0lIGRvbmVgOwoKICAgIH0gd2hpbGUgKHBvc2l0aW9uIDwgZmlsZURhdGEuYnl0ZUxlbmd0aCk7CiAgfQoKICAvLyBBbGwgZG9uZS4KICB5aWVsZCB7CiAgICByZXNwb25zZTogewogICAgICBhY3Rpb246ICdjb21wbGV0ZScsCiAgICB9CiAgfTsKfQoKc2NvcGUuZ29vZ2xlID0gc2NvcGUuZ29vZ2xlIHx8IHt9OwpzY29wZS5nb29nbGUuY29sYWIgPSBzY29wZS5nb29nbGUuY29sYWIgfHwge307CnNjb3BlLmdvb2dsZS5jb2xhYi5fZmlsZXMgPSB7CiAgX3VwbG9hZEZpbGVzLAogIF91cGxvYWRGaWxlc0NvbnRpbnVlLAp9Owp9KShzZWxmKTsK",
              "ok": true,
              "headers": [
                [
                  "content-type",
                  "application/javascript"
                ]
              ],
              "status": 200,
              "status_text": "OK"
            }
          },
          "base_uri": "https://localhost:8080/",
          "height": 494
        },
        "outputId": "e72012b6-34b4-41e5-c1e2-c694ffeab2bf"
      },
      "execution_count": null,
      "outputs": [
        {
          "output_type": "display_data",
          "data": {
            "text/plain": [
              "<IPython.core.display.HTML object>"
            ],
            "text/html": [
              "\n",
              "     <input type=\"file\" id=\"files-1f517c4d-39af-4fb3-98ec-21af0264e11e\" name=\"files[]\" multiple disabled\n",
              "        style=\"border:none\" />\n",
              "     <output id=\"result-1f517c4d-39af-4fb3-98ec-21af0264e11e\">\n",
              "      Upload widget is only available when the cell has been executed in the\n",
              "      current browser session. Please rerun this cell to enable.\n",
              "      </output>\n",
              "      <script src=\"/nbextensions/google.colab/files.js\"></script> "
            ]
          },
          "metadata": {}
        },
        {
          "output_type": "stream",
          "name": "stdout",
          "text": [
            "Saving kaggle.json to kaggle.json\n",
            "rm: cannot remove '/root/.kaggle': No such file or directory\n",
            "ref                                                             title                                                size  lastUpdated          downloadCount  voteCount  usabilityRating  \n",
            "--------------------------------------------------------------  --------------------------------------------------  -----  -------------------  -------------  ---------  ---------------  \n",
            "victorsoeiro/netflix-tv-shows-and-movies                        Netflix TV Shows and Movies                           2MB  2022-05-15 00:01:23          10472        319  1.0              \n",
            "devansodariya/student-performance-data                          Student Performance Dataset                           7KB  2022-05-26 13:55:09           5881        180  0.9705882        \n",
            "mohamedharris/supermart-grocery-sales-retail-analytics-dataset  Supermart Grocery Sales - Retail Analytics Dataset  191KB  2022-06-12 16:14:44            893         44  0.88235295       \n",
            "sameepvani/nasa-nearest-earth-objects                           NASA - Nearest Earth Objects                          7MB  2022-06-17 02:32:18            647         44  1.0              \n",
            "ruchi798/data-science-job-salaries                              Data Science Job Salaries                             7KB  2022-06-15 08:59:12           1105         50  1.0              \n",
            "iamsouravbanerjee/software-professional-salaries-2022           Salary Dataset - 2022                               526KB  2022-06-15 17:13:05           2092         57  1.0              \n",
            "hanzlanawaz/monkeypox-outbreak                                  Monkeypox Outbreak Dataset                           27KB  2022-06-06 03:13:58            908         44  0.9705882        \n",
            "mayureshkoli/police-deaths-in-usa-from-1791-to-2022             Police deaths in USA from 1791 to 2022              698KB  2022-06-09 17:47:57           1043         33  1.0              \n",
            "imoore/age-dataset                                              Age dataset: life, work, and death of 1.22M people   34MB  2022-06-07 08:56:52            965         59  1.0              \n",
            "hassanshehzadk/top-50-most-followed-instagram-accounts          Top 50 Most Followed Instagram Accounts               2KB  2022-06-07 06:40:27            495         26  1.0              \n",
            "paradisejoy/top-hits-spotify-from-20002019                      Top Hits Spotify from 2000-2019                      94KB  2022-05-31 07:20:57           7521        170  1.0              \n",
            "saddamazyazy/go-to-college-dataset                              Go To College Dataset                                12KB  2022-05-20 10:46:02           2232         55  1.0              \n",
            "outofskills/driving-behavior                                    Driving Behavior                                    196KB  2022-06-05 09:40:48            553         33  1.0              \n",
            "odins0n/amex-parquet                                            Amex Competition Data in Parquet Format               9GB  2022-05-25 23:20:19           1069        134  1.0              \n",
            "dansbecker/melbourne-housing-snapshot                           Melbourne Housing Snapshot                          451KB  2018-06-05 12:52:24          89489       1098  0.7058824        \n",
            "digvijaysinhgohil/imdb-dataset-toprated-films-18982022          IMDb Dataset Top-Rated films 1898-2022               50KB  2022-06-15 08:41:14            412         32  1.0              \n",
            "srivnaman/data-science-and-ai-jobs-indeed                       Data Science and AI Jobs Indeed                      59KB  2022-06-16 16:40:52            244         29  0.88235295       \n",
            "surajjha101/stores-area-and-sales-data                          Supermarket store branches sales analysis            10KB  2022-04-29 11:10:16           7448        198  1.0              \n",
            "ruchi798/parquet-files-amexdefault-prediction                   Feather & Parquet Files : AMEX-Default Prediction    22GB  2022-05-26 05:46:53            782        111  1.0              \n",
            "azminetoushikwasi/ucl-202122-uefa-champions-league              UCL ⚽ 2021-22 ⭐ Players Data | Champions League      55KB  2022-06-20 03:01:18           1877         59  1.0              \n"
          ]
        }
      ]
    },
    {
      "cell_type": "code",
      "source": [
        "!kaggle competitions download -c challenges-in-representation-learning-facial-expression-recognition-challenge"
      ],
      "metadata": {
        "colab": {
          "base_uri": "https://localhost:8080/"
        },
        "id": "fa-v-KlClgGc",
        "outputId": "5981d6ff-8130-4d15-8b8a-cfed0767c52d"
      },
      "execution_count": null,
      "outputs": [
        {
          "output_type": "stream",
          "name": "stdout",
          "text": [
            "Downloading challenges-in-representation-learning-facial-expression-recognition-challenge.zip to /content\n",
            " 96% 274M/285M [00:01<00:00, 155MB/s]\n",
            "100% 285M/285M [00:02<00:00, 147MB/s]\n"
          ]
        }
      ]
    },
    {
      "cell_type": "code",
      "source": [
        "!mkdir data\n",
        "!unzip challenges-in-representation-learning-facial-expression-recognition-challenge.zip -d data"
      ],
      "metadata": {
        "colab": {
          "base_uri": "https://localhost:8080/"
        },
        "id": "X6TfGOEXmroE",
        "outputId": "b3213bd4-8adb-4174-aa80-5c2e05a54d38"
      },
      "execution_count": null,
      "outputs": [
        {
          "output_type": "stream",
          "name": "stdout",
          "text": [
            "Archive:  challenges-in-representation-learning-facial-expression-recognition-challenge.zip\n",
            "  inflating: data/example_submission.csv  \n",
            "  inflating: data/fer2013.tar.gz     \n",
            "  inflating: data/icml_face_data.csv  \n",
            "  inflating: data/test.csv           \n",
            "  inflating: data/train.csv          \n"
          ]
        }
      ]
    },
    {
      "cell_type": "code",
      "execution_count": null,
      "metadata": {
        "id": "GSzMIiaQnQfV"
      },
      "outputs": [],
      "source": [
        "import os\n",
        "os.environ['CUDA_LAUNCH_BLOCKING'] = \"1\"\n",
        "import torch as pt\n",
        "import torchvision\n",
        "import torch.nn as nn\n",
        "\n",
        "from torchvision.datasets import KMNIST\n",
        "\n",
        "from  torch.utils.data import random_split, DataLoader\n",
        "import torchvision.transforms as trans\n",
        "import torch.optim as optim\n",
        "\n",
        "from sklearn.metrics import classification_report\n",
        "\n",
        "import matplotlib.pyplot as plt\n",
        "import matplotlib\n",
        "\n",
        "import numpy as np\n",
        "import argparse\n",
        "import pandas as pd\n",
        "import time\n",
        "\n",
        "from PIL import Image\n"
      ]
    },
    {
      "cell_type": "code",
      "source": [
        "###################just for tests not used##################\n",
        "# train=pd.read_csv(\"/content/data/train.csv\")\n",
        "# test=pd.read_csv(\"/content/data/test.csv\" )\n",
        "# print(train['emotion'].unique())\n",
        "# print(train['emotion'][1])\n",
        "# train.head()"
      ],
      "metadata": {
        "id": "rIYZ0cZOlFJC"
      },
      "execution_count": null,
      "outputs": []
    },
    {
      "cell_type": "code",
      "source": [
        "# train['pixels']=train['pixels'].astype('string')\n",
        "# img=np.fromstring(train['pixels'][0],np.float32 ,sep=' ')\n",
        "# plt.imshow(img.reshape(48,48))"
      ],
      "metadata": {
        "id": "6fg4FKyer1__"
      },
      "execution_count": null,
      "outputs": []
    },
    {
      "cell_type": "code",
      "source": [
        "class FaceDataSet(pt.utils.data.Dataset):\n",
        "\n",
        "  def __init__(self,csv_file,transform=None):\n",
        "    self.data=pd.read_csv(csv_file)\n",
        "    # convert obj col to string\n",
        "    self.data['pixels']= self.data['pixels'].astype('string')\n",
        "    self.data=self.data[(self.data['emotion']==3 )| (self.data['emotion']==4) | (self.data['emotion']==6 ) ].reset_index()\n",
        "    self.data['emotion'].replace({3:0,4:1,6:2}, inplace=True)\n",
        "    self.data.drop('index', inplace=True, axis=1)\n",
        "    self.transform=transform\n",
        "    \n",
        "  def __len__ (self,):\n",
        "    return len(self.data['pixels'])\n",
        "    \n",
        "\n",
        "  def __getitem__(self,idx):\n",
        "    item=np.fromstring(self.data['pixels'][idx], sep=' ').reshape(48,48)/255\n",
        "    y=self.data['emotion'][idx]\n",
        "\n",
        "    if self.transform:\n",
        "      item=self.transform(item)\n",
        "\n",
        "    return item,y\n",
        "\n",
        "\n"
      ],
      "metadata": {
        "id": "gfYDQ3oNxl0A"
      },
      "execution_count": null,
      "outputs": []
    },
    {
      "cell_type": "code",
      "source": [
        "device = pt.device(\"cuda\" if pt.cuda.is_available() else \"cpu\")\n",
        "# device=\"cpu\""
      ],
      "metadata": {
        "id": "D7y6VZSJz3-B"
      },
      "execution_count": null,
      "outputs": []
    },
    {
      "cell_type": "code",
      "source": [
        "transforms=trans.Compose([trans.ToTensor()])\n",
        "\n",
        "train_ds=FaceDataSet(\"/content/data/train.csv\", transforms)\n",
        "# test_ds=FaceDataSet(\"/content/data/test.csv\", transforms)\n",
        "\n",
        "BATCH_SIZE=32\n",
        "lr=.001\n",
        "batch_size=64\n",
        "epochs =50\n",
        "\n",
        "train_split=.75\n",
        "valid_split=1-train_split\n",
        "\n",
        "\n",
        "num_train = int(len(train_ds) * train_split) + 1\n",
        "num_valid = int(len(train_ds) * valid_split)\n",
        "\n",
        "train_ds,valid_ds=pt.utils.data.random_split(train_ds,[num_train ,num_valid], generator=pt.Generator().manual_seed(40))\n",
        "train_loader=pt.utils.data.DataLoader(train_ds,batch_size=BATCH_SIZE,shuffle=True)\n",
        "valid_loader=pt.utils.data.DataLoader(valid_ds, batch_size=BATCH_SIZE)\n",
        "# test_loader=pt.utils.data.DataLoader(test_ds,batch_size=BATCH_SIZE)\n"
      ],
      "metadata": {
        "id": "mp2I_Ker8-Rh"
      },
      "execution_count": null,
      "outputs": []
    },
    {
      "cell_type": "code",
      "source": [
        "sample=next(iter(train_loader))\n",
        "imgs,labels=sample\n",
        "images= torchvision.utils.make_grid(imgs)\n",
        "plt.imshow(np.transpose(images, (1,2,0)))\n",
        "#  (0=Angry, 1=Disgust, 2=Fear, 3=Happy, 4=Sad, 5=Surprise, 6=Neutral)."
      ],
      "metadata": {
        "colab": {
          "base_uri": "https://localhost:8080/",
          "height": 237
        },
        "id": "pEl1kjzC2oP1",
        "outputId": "7775eecc-b188-4860-c2c0-1c8a1bb00ab7"
      },
      "execution_count": null,
      "outputs": [
        {
          "output_type": "execute_result",
          "data": {
            "text/plain": [
              "<matplotlib.image.AxesImage at 0x7faa0d849fd0>"
            ]
          },
          "metadata": {},
          "execution_count": 7
        },
        {
          "output_type": "display_data",
          "data": {
            "text/plain": [
              "<Figure size 432x288 with 1 Axes>"
            ],
            "image/png": "[encoded data removed]"
          },
          "metadata": {
            "needs_background": "light"
          }
        }
      ]
    },
    {
      "cell_type": "markdown",
      "metadata": {
        "id": "4HZrMCJRpsI9"
      },
      "source": [
        ""
      ]
    },
    {
      "cell_type": "markdown",
      "metadata": {
        "id": "oeH5cTTHpyMK"
      },
      "source": [
        "# 1. Model "
      ]
    },
    {
      "cell_type": "code",
      "execution_count": null,
      "metadata": {
        "id": "34Epjopwp1QK"
      },
      "outputs": [],
      "source": [
        "class EmotionDetector(nn.Module):\n",
        "  def __init__(self, in_ch,classes):\n",
        "    super(EmotionDetector,self).__init__()\n",
        "\n",
        "    self.conv1=nn.Conv2d(in_channels=in_ch,out_channels=60, kernel_size=(3,3))\n",
        "    self.relu1=nn.ReLU()\n",
        "    self.bn1=nn.BatchNorm2d(60)\n",
        "    self.maxPool1=nn.MaxPool2d(kernel_size=(2,2), stride=(2,2))\n",
        "\n",
        "\n",
        "    self.conv2=nn.Conv2d(in_channels=60,out_channels=120, kernel_size=(3,3))\n",
        "    self.relu2=nn.ReLU()\n",
        "    self.bn2=nn.BatchNorm2d(120)\n",
        "    self.maxPool2=nn.MaxPool2d(kernel_size=(2,2), stride=(2,2))\n",
        "\n",
        "\n",
        "    self.conv3=nn.Conv2d(in_channels=120,out_channels=240, kernel_size=(3,3))\n",
        "    self.relu3=nn.ReLU()\n",
        "    self.bn3=nn.BatchNorm2d(240)\n",
        "    # self.maxPool3=nn.MaxPool2d(kernel_size=(2,2), stride=(2,2))\n",
        "    #28*28*1 -> 27-13-> 12-6 *80 -> 5*4*100\n",
        "    #    \n",
        "    self.dropout=nn.Dropout2d()\n",
        "\n",
        "    self.conv4=nn.Conv2d(in_channels=240,out_channels=480, kernel_size=(3,3))\n",
        "    self.relu4=nn.ReLU()\n",
        "    self.maxPool4=nn.MaxPool2d(kernel_size=(2,2), stride=(2,2))\n",
        "\n",
        "\n",
        "\n",
        "    # self.conv5=nn.Conv2d(in_channels=120,out_channels=150, kernel_size=(5,5))\n",
        "    # self.relu5=nn.ReLU()\n",
        "    # self.maxPool5=nn.MaxPool2d(kernel_size=(2,2), stride=(1,1))\n",
        "\n",
        "\n",
        "    self.fc1=nn.Linear(in_features=480*3*3,out_features=200)\n",
        "    self.relu_fc1=nn.ReLU()\n",
        "\n",
        "    self.fc2=nn.Linear(in_features=200,out_features=classes)\n",
        "    self.lsm=nn.LogSoftmax(dim=1)\n",
        "\n",
        "  def forward(self,x):\n",
        "    debug=False\n",
        "    x=x.float()\n",
        "    if debug : print(\"input to cv1 \",x.shape)\n",
        "    x=self.conv1(x)\n",
        "    if debug : print(\"input to mxp1\",x.shape)\n",
        "    x=self.bn1(x)\n",
        "    x=self.relu1(x)\n",
        "    x=self.maxPool1(x)\n",
        "    x=self.dropout(x)\n",
        "\n",
        "\n",
        "    if debug :print(\"input to cv2\",x.shape)\n",
        "    x=self.conv2(x)\n",
        "    x=self.bn2(x)\n",
        "\n",
        "    if debug : print(\"input to mxp2\",x.shape)\n",
        "    x=self.relu2(x)\n",
        "    x=self.maxPool2(x)\n",
        "    x=self.dropout(x)\n",
        "\n",
        "    if debug : print(\"input to cv3\",x.shape)\n",
        "    x=self.conv3(x)\n",
        "    x=self.bn3(x)\n",
        "    x=self.relu3(x)\n",
        "    if debug : print(\"input to mxp3\",x.shape)\n",
        "    # x=self.maxPool3(x)\n",
        "    x=self.dropout(x)\n",
        "\n",
        "    \n",
        "    x=self.conv4(x)\n",
        "    x=self.relu4(x)\n",
        "    x=self.maxPool4(x)\n",
        "\n",
        "    # x=self.conv5(x)\n",
        "    # x=self.relu5(x)\n",
        "    # x=self.maxPool5(x)\n",
        "\n",
        "    if debug : print(\"input to fc1\",x.shape)\n",
        "    x = pt.flatten(x,1)\n",
        "    \n",
        "    x=self.fc1(x)\n",
        "    x=self.relu_fc1(x)\n",
        "    if debug : print(\"input to fc2 \",x.shape)\n",
        "    x=self.fc2(x)\n",
        "    if debug : print(\"input to lsm \",x.shape)\n",
        "    output=self.lsm(x)\n",
        "    if debug : print(\"final output \",x.shape)\n",
        "    return output"
      ]
    },
    {
      "cell_type": "markdown",
      "metadata": {
        "id": "JiCO7D3eu5GC"
      },
      "source": [
        "# 2. Train the Model"
      ]
    },
    {
      "cell_type": "markdown",
      "metadata": {
        "id": "45hxQjP0vXHK"
      },
      "source": [
        "## load and transfrom data"
      ]
    },
    {
      "cell_type": "code",
      "execution_count": null,
      "metadata": {
        "id": "s5CphfIovbGS",
        "colab": {
          "base_uri": "https://localhost:8080/"
        },
        "outputId": "dd071de8-d576-4169-f0bb-fa4be43a51aa"
      },
      "outputs": [
        {
          "output_type": "stream",
          "name": "stdout",
          "text": [
            "train is 199\n",
            "validation is 66\n"
          ]
        }
      ],
      "source": [
        "train_steps = len(train_loader.dataset) // batch_size\n",
        "valid_steps = len(valid_loader.dataset) // batch_size\n",
        "print (\"train is {}\\nvalidation is {}\".format(train_steps,valid_steps))"
      ]
    },
    {
      "cell_type": "code",
      "execution_count": null,
      "metadata": {
        "id": "2XrGfZjhyKnw"
      },
      "outputs": [],
      "source": [
        "CLASSES=3\n",
        "model=EmotionDetector(in_ch=1,classes=CLASSES).to(device)\n",
        "\n",
        "optimizer=optim.Adam(model.parameters(),lr=lr)\n",
        "\n",
        "loss_fn=nn.NLLLoss()\n",
        "\n",
        "obervations = {\n",
        "\t\"train_loss\": [],\n",
        "\t\"train_acc\": [],\n",
        "\t\"val_loss\": [],\n",
        "\t\"val_acc\": []\n",
        "}\n"
      ]
    },
    {
      "cell_type": "code",
      "execution_count": null,
      "metadata": {
        "id": "LDFEp_FsvVtz",
        "colab": {
          "base_uri": "https://localhost:8080/"
        },
        "outputId": "60c1dc14-14c7-4590-cbb3-99261421f4d1"
      },
      "outputs": [
        {
          "output_type": "stream",
          "name": "stdout",
          "text": [
            "[INFO] EPOCH: 1/50\n",
            "Train loss: 2.042691, Train accuracy: 0.4838\n",
            "Val loss: 1.750950, Val accuracy: 0.5814\n",
            "\n",
            "[INFO] EPOCH: 2/50\n",
            "Train loss: 1.737726, Train accuracy: 0.5824\n",
            "Val loss: 1.599918, Val accuracy: 0.6171\n",
            "\n",
            "[INFO] EPOCH: 3/50\n",
            "Train loss: 1.641645, Train accuracy: 0.6100\n",
            "Val loss: 1.571529, Val accuracy: 0.6336\n",
            "\n",
            "[INFO] EPOCH: 4/50\n",
            "Train loss: 1.578961, Train accuracy: 0.6293\n",
            "Val loss: 1.511954, Val accuracy: 0.6373\n",
            "\n",
            "[INFO] EPOCH: 5/50\n",
            "Train loss: 1.538579, Train accuracy: 0.6365\n",
            "Val loss: 1.466110, Val accuracy: 0.6623\n",
            "\n",
            "[INFO] EPOCH: 6/50\n",
            "Train loss: 1.498729, Train accuracy: 0.6561\n",
            "Val loss: 1.509389, Val accuracy: 0.6508\n",
            "\n",
            "[INFO] EPOCH: 7/50\n",
            "Train loss: 1.455385, Train accuracy: 0.6631\n",
            "Val loss: 1.460640, Val accuracy: 0.6616\n",
            "\n",
            "[INFO] EPOCH: 8/50\n",
            "Train loss: 1.427562, Train accuracy: 0.6750\n",
            "Val loss: 1.403110, Val accuracy: 0.6710\n",
            "\n",
            "[INFO] EPOCH: 9/50\n",
            "Train loss: 1.414213, Train accuracy: 0.6775\n",
            "Val loss: 1.395568, Val accuracy: 0.6726\n",
            "\n",
            "[INFO] EPOCH: 10/50\n",
            "Train loss: 1.395421, Train accuracy: 0.6790\n",
            "Val loss: 1.382539, Val accuracy: 0.6802\n",
            "\n",
            "[INFO] EPOCH: 11/50\n",
            "Train loss: 1.376551, Train accuracy: 0.6844\n",
            "Val loss: 1.374383, Val accuracy: 0.6849\n",
            "\n",
            "[INFO] EPOCH: 12/50\n",
            "Train loss: 1.355032, Train accuracy: 0.6942\n",
            "Val loss: 1.374266, Val accuracy: 0.6959\n",
            "\n",
            "[INFO] EPOCH: 13/50\n",
            "Train loss: 1.331238, Train accuracy: 0.6974\n",
            "Val loss: 1.331284, Val accuracy: 0.7008\n",
            "\n",
            "[INFO] EPOCH: 14/50\n",
            "Train loss: 1.316453, Train accuracy: 0.7040\n",
            "Val loss: 1.338248, Val accuracy: 0.6933\n",
            "\n",
            "[INFO] EPOCH: 15/50\n",
            "Train loss: 1.310120, Train accuracy: 0.7069\n",
            "Val loss: 1.329492, Val accuracy: 0.6985\n",
            "\n",
            "[INFO] EPOCH: 16/50\n",
            "Train loss: 1.284348, Train accuracy: 0.7108\n",
            "Val loss: 1.328013, Val accuracy: 0.7020\n",
            "\n",
            "[INFO] EPOCH: 17/50\n",
            "Train loss: 1.272746, Train accuracy: 0.7154\n",
            "Val loss: 1.332486, Val accuracy: 0.7030\n",
            "\n",
            "[INFO] EPOCH: 18/50\n",
            "Train loss: 1.247081, Train accuracy: 0.7215\n",
            "Val loss: 1.353133, Val accuracy: 0.7032\n",
            "\n",
            "[INFO] EPOCH: 19/50\n",
            "Train loss: 1.247624, Train accuracy: 0.7203\n",
            "Val loss: 1.312309, Val accuracy: 0.7077\n",
            "\n",
            "[INFO] EPOCH: 20/50\n",
            "Train loss: 1.237528, Train accuracy: 0.7275\n",
            "Val loss: 1.288654, Val accuracy: 0.7164\n",
            "\n",
            "[INFO] EPOCH: 21/50\n",
            "Train loss: 1.234357, Train accuracy: 0.7280\n",
            "Val loss: 1.325323, Val accuracy: 0.7168\n",
            "\n",
            "[INFO] EPOCH: 22/50\n",
            "Train loss: 1.198906, Train accuracy: 0.7331\n",
            "Val loss: 1.296710, Val accuracy: 0.7173\n",
            "\n",
            "[INFO] EPOCH: 23/50\n",
            "Train loss: 1.209329, Train accuracy: 0.7327\n",
            "Val loss: 1.306035, Val accuracy: 0.7114\n",
            "\n",
            "[INFO] EPOCH: 24/50\n",
            "Train loss: 1.179946, Train accuracy: 0.7389\n",
            "Val loss: 1.282465, Val accuracy: 0.7237\n",
            "\n",
            "[INFO] EPOCH: 25/50\n",
            "Train loss: 1.185208, Train accuracy: 0.7419\n",
            "Val loss: 1.299773, Val accuracy: 0.7135\n",
            "\n",
            "[INFO] EPOCH: 26/50\n",
            "Train loss: 1.169275, Train accuracy: 0.7406\n",
            "Val loss: 1.274106, Val accuracy: 0.7166\n",
            "\n",
            "[INFO] EPOCH: 27/50\n",
            "Train loss: 1.157940, Train accuracy: 0.7449\n",
            "Val loss: 1.286025, Val accuracy: 0.7213\n",
            "\n",
            "[INFO] EPOCH: 28/50\n",
            "Train loss: 1.149793, Train accuracy: 0.7478\n",
            "Val loss: 1.284702, Val accuracy: 0.7161\n",
            "\n",
            "[INFO] EPOCH: 29/50\n",
            "Train loss: 1.125308, Train accuracy: 0.7528\n",
            "Val loss: 1.297210, Val accuracy: 0.7187\n",
            "\n",
            "[INFO] EPOCH: 30/50\n",
            "Train loss: 1.133966, Train accuracy: 0.7554\n",
            "Val loss: 1.302595, Val accuracy: 0.7208\n",
            "\n",
            "[INFO] EPOCH: 31/50\n",
            "Train loss: 1.115375, Train accuracy: 0.7550\n",
            "Val loss: 1.312863, Val accuracy: 0.7112\n",
            "\n",
            "[INFO] EPOCH: 32/50\n",
            "Train loss: 1.100320, Train accuracy: 0.7586\n",
            "Val loss: 1.335680, Val accuracy: 0.7218\n",
            "\n",
            "[INFO] EPOCH: 33/50\n",
            "Train loss: 1.092367, Train accuracy: 0.7593\n",
            "Val loss: 1.323270, Val accuracy: 0.7194\n",
            "\n",
            "[INFO] EPOCH: 34/50\n",
            "Train loss: 1.089890, Train accuracy: 0.7589\n",
            "Val loss: 1.304581, Val accuracy: 0.7194\n",
            "\n",
            "[INFO] EPOCH: 35/50\n",
            "Train loss: 1.075142, Train accuracy: 0.7645\n",
            "Val loss: 1.314420, Val accuracy: 0.7260\n",
            "\n",
            "[INFO] EPOCH: 36/50\n",
            "Train loss: 1.057771, Train accuracy: 0.7757\n",
            "Val loss: 1.277930, Val accuracy: 0.7244\n",
            "\n",
            "[INFO] EPOCH: 37/50\n",
            "Train loss: 1.066631, Train accuracy: 0.7667\n",
            "Val loss: 1.337367, Val accuracy: 0.7171\n",
            "\n",
            "[INFO] EPOCH: 38/50\n",
            "Train loss: 1.050108, Train accuracy: 0.7725\n",
            "Val loss: 1.333321, Val accuracy: 0.7171\n",
            "\n",
            "[INFO] EPOCH: 39/50\n",
            "Train loss: 1.034036, Train accuracy: 0.7794\n",
            "Val loss: 1.309270, Val accuracy: 0.7215\n",
            "\n",
            "[INFO] EPOCH: 40/50\n",
            "Train loss: 1.039222, Train accuracy: 0.7739\n",
            "Val loss: 1.324003, Val accuracy: 0.7227\n",
            "\n",
            "[INFO] EPOCH: 41/50\n",
            "Train loss: 1.037743, Train accuracy: 0.7734\n",
            "Val loss: 1.355333, Val accuracy: 0.7168\n",
            "\n",
            "[INFO] EPOCH: 42/50\n",
            "Train loss: 1.004995, Train accuracy: 0.7840\n",
            "Val loss: 1.347695, Val accuracy: 0.7185\n",
            "\n",
            "[INFO] EPOCH: 43/50\n",
            "Train loss: 1.005123, Train accuracy: 0.7844\n",
            "Val loss: 1.323095, Val accuracy: 0.7227\n",
            "\n",
            "[INFO] EPOCH: 44/50\n",
            "Train loss: 1.007539, Train accuracy: 0.7827\n",
            "Val loss: 1.344747, Val accuracy: 0.7124\n",
            "\n",
            "[INFO] EPOCH: 45/50\n",
            "Train loss: 1.002800, Train accuracy: 0.7823\n",
            "Val loss: 1.306341, Val accuracy: 0.7295\n",
            "\n",
            "[INFO] EPOCH: 46/50\n",
            "Train loss: 0.972032, Train accuracy: 0.7917\n",
            "Val loss: 1.338986, Val accuracy: 0.7244\n",
            "\n",
            "[INFO] EPOCH: 47/50\n",
            "Train loss: 0.971268, Train accuracy: 0.7906\n",
            "Val loss: 1.321676, Val accuracy: 0.7272\n",
            "\n",
            "[INFO] EPOCH: 48/50\n",
            "Train loss: 0.970230, Train accuracy: 0.7960\n",
            "Val loss: 1.348357, Val accuracy: 0.7241\n",
            "\n",
            "[INFO] EPOCH: 49/50\n",
            "Train loss: 0.959805, Train accuracy: 0.7946\n",
            "Val loss: 1.386490, Val accuracy: 0.7164\n",
            "\n",
            "[INFO] EPOCH: 50/50\n",
            "Train loss: 0.935133, Train accuracy: 0.8011\n",
            "Val loss: 1.365305, Val accuracy: 0.7258\n",
            "\n"
          ]
        }
      ],
      "source": [
        "# train \n",
        "for ep in range(0, epochs):\n",
        "  \n",
        "  model.train()\n",
        "\n",
        "  total_train_loss=0\n",
        "  total_valid_loss=0\n",
        "\n",
        "  train_correct=0\n",
        "  valid_correct=0\n",
        "\n",
        "  for (x,y) in train_loader:\n",
        "    \n",
        "    x,y= (x.to(device), y.to(device) )\n",
        "    \n",
        "    pred= model(x)\n",
        "    loss=loss_fn(pred,y)\n",
        "\n",
        "    optimizer.zero_grad()\n",
        "    loss.backward()\n",
        "    optimizer.step()\n",
        "\n",
        "    total_train_loss+=loss.item()\n",
        "\n",
        "    train_correct+= (pred.argmax(1)==y).type(pt.float).sum().item()\n",
        "\n",
        "\n",
        "  with pt.no_grad():\n",
        "      model.eval()\n",
        "\n",
        "      for (x,y) in valid_loader:\n",
        "         x,y= (x.to(device), y.to(device) )\n",
        "         \n",
        "         pred=model(x)\n",
        "         total_valid_loss+=loss_fn(pred,y)\n",
        "\n",
        "         valid_correct+= (pred.argmax(1)==y).type(pt.float).sum().item()\n",
        "\n",
        "  avg_train_loss=total_train_loss/train_steps\n",
        "  avg_valid_loss= total_valid_loss/valid_steps\n",
        "\n",
        "  train_correct=train_correct/len(train_loader.dataset)\n",
        "  valid_correct=valid_correct/len(valid_loader.dataset)\n",
        "\n",
        "\n",
        "  # update our training history\n",
        "  obervations[\"train_loss\"].append(avg_train_loss)\n",
        "  obervations[\"train_acc\"].append(train_correct)\n",
        "  obervations[\"val_loss\"].append(avg_valid_loss)\n",
        "  obervations[\"val_acc\"].append(valid_correct)\n",
        "  # print the model training and validation information\n",
        "  print(\"[INFO] EPOCH: {}/{}\".format(ep + 1, epochs))\n",
        "  print(\"Train loss: {:.6f}, Train accuracy: {:.4f}\".format(avg_train_loss, train_correct))\n",
        "  print(\"Val loss: {:.6f}, Val accuracy: {:.4f}\\n\".format( avg_valid_loss, valid_correct))  "
      ]
    },
    {
      "cell_type": "markdown",
      "source": [
        "# Second part (Emotions detection model)"
      ],
      "metadata": {
        "id": "dFWZL8Lu-Hoa"
      }
    }
  ],
  "metadata": {
    "accelerator": "GPU",
    "colab": {
      "name": "Cv Project.ipynb",
      "provenance": [],
      "authorship_tag": "ABX9TyNR1MH5jWKaEFjbRolUvGw+",
      "include_colab_link": true
    },
    "gpuClass": "standard",
    "kernelspec": {
      "display_name": "Python 3",
      "name": "python3"
    },
    "language_info": {
      "name": "python"
    }
  },
  "nbformat": 4,
  "nbformat_minor": 0
}