{
  "nbformat": 4,
  "nbformat_minor": 0,
  "metadata": {
    "colab": {
      "name": "Cv -project-v1_3.ipynb",
      "provenance": [],
      "include_colab_link": true
    },
    "kernelspec": {
      "name": "python3",
      "display_name": "Python 3"
    },
    "language_info": {
      "name": "python"
    },
    "accelerator": "GPU",
    "gpuClass": "standard"
  },
  "cells": [
    {
      "cell_type": "markdown",
      "metadata": {
        "id": "view-in-github",
        "colab_type": "text"
      },
      "source": [
        "<a href=\"https://colab.research.google.com/github/BishoyAbd/CV-projec-v1_1/blob/master/Cv_project_v1_3.ipynb\" target=\"_parent\"><img src=\"https://colab.research.google.com/assets/colab-badge.svg\" alt=\"Open In Colab\"/></a>"
      ]
    },
    {
      "cell_type": "code",
      "source": [
        "!pip install facenet-pytorch\n",
        "!pip install gdown"
      ],
      "metadata": {
        "id": "7T0_QChMcvtK",
        "colab": {
          "base_uri": "https://localhost:8080/"
        },
        "outputId": "4d09de35-c3b8-4c10-d1a3-f6ed84617de0"
      },
      "execution_count": 1,
      "outputs": [
        {
          "output_type": "stream",
          "name": "stdout",
          "text": [
            "Looking in indexes: https://pypi.org/simple, https://us-python.pkg.dev/colab-wheels/public/simple/\n",
            "Collecting facenet-pytorch\n",
            "  Downloading facenet_pytorch-2.5.2-py3-none-any.whl (1.9 MB)\n",
            "\u001b[K     |████████████████████████████████| 1.9 MB 9.7 MB/s \n",
            "\u001b[?25hRequirement already satisfied: pillow in /usr/local/lib/python3.7/dist-packages (from facenet-pytorch) (7.1.2)\n",
            "Requirement already satisfied: requests in /usr/local/lib/python3.7/dist-packages (from facenet-pytorch) (2.23.0)\n",
            "Requirement already satisfied: numpy in /usr/local/lib/python3.7/dist-packages (from facenet-pytorch) (1.21.6)\n",
            "Requirement already satisfied: torchvision in /usr/local/lib/python3.7/dist-packages (from facenet-pytorch) (0.12.0+cu113)\n",
            "Requirement already satisfied: certifi>=2017.4.17 in /usr/local/lib/python3.7/dist-packages (from requests->facenet-pytorch) (2022.6.15)\n",
            "Requirement already satisfied: urllib3!=1.25.0,!=1.25.1,<1.26,>=1.21.1 in /usr/local/lib/python3.7/dist-packages (from requests->facenet-pytorch) (1.24.3)\n",
            "Requirement already satisfied: idna<3,>=2.5 in /usr/local/lib/python3.7/dist-packages (from requests->facenet-pytorch) (2.10)\n",
            "Requirement already satisfied: chardet<4,>=3.0.2 in /usr/local/lib/python3.7/dist-packages (from requests->facenet-pytorch) (3.0.4)\n",
            "Requirement already satisfied: typing-extensions in /usr/local/lib/python3.7/dist-packages (from torchvision->facenet-pytorch) (4.1.1)\n",
            "Requirement already satisfied: torch==1.11.0 in /usr/local/lib/python3.7/dist-packages (from torchvision->facenet-pytorch) (1.11.0+cu113)\n",
            "Installing collected packages: facenet-pytorch\n",
            "Successfully installed facenet-pytorch-2.5.2\n",
            "Looking in indexes: https://pypi.org/simple, https://us-python.pkg.dev/colab-wheels/public/simple/\n",
            "Requirement already satisfied: gdown in /usr/local/lib/python3.7/dist-packages (4.4.0)\n",
            "Requirement already satisfied: requests[socks] in /usr/local/lib/python3.7/dist-packages (from gdown) (2.23.0)\n",
            "Requirement already satisfied: six in /usr/local/lib/python3.7/dist-packages (from gdown) (1.15.0)\n",
            "Requirement already satisfied: filelock in /usr/local/lib/python3.7/dist-packages (from gdown) (3.7.1)\n",
            "Requirement already satisfied: beautifulsoup4 in /usr/local/lib/python3.7/dist-packages (from gdown) (4.6.3)\n",
            "Requirement already satisfied: tqdm in /usr/local/lib/python3.7/dist-packages (from gdown) (4.64.0)\n",
            "Requirement already satisfied: urllib3!=1.25.0,!=1.25.1,<1.26,>=1.21.1 in /usr/local/lib/python3.7/dist-packages (from requests[socks]->gdown) (1.24.3)\n",
            "Requirement already satisfied: idna<3,>=2.5 in /usr/local/lib/python3.7/dist-packages (from requests[socks]->gdown) (2.10)\n",
            "Requirement already satisfied: chardet<4,>=3.0.2 in /usr/local/lib/python3.7/dist-packages (from requests[socks]->gdown) (3.0.4)\n",
            "Requirement already satisfied: certifi>=2017.4.17 in /usr/local/lib/python3.7/dist-packages (from requests[socks]->gdown) (2022.6.15)\n",
            "Requirement already satisfied: PySocks!=1.5.7,>=1.5.6 in /usr/local/lib/python3.7/dist-packages (from requests[socks]->gdown) (1.7.1)\n"
          ]
        }
      ]
    },
    {
      "cell_type": "code",
      "source": [
        "\n",
        "#Load the Drive helper and mount\n",
        "from google.colab import drive\n",
        "\n",
        "# This will prompt for authorization.\n",
        "drive.mount('/content/drive')\n",
        "!ls \"drive/My Drive/cv project files/\""
      ],
      "metadata": {
        "colab": {
          "base_uri": "https://localhost:8080/"
        },
        "id": "WwaYQnuGiUmD",
        "outputId": "9fcbe163-928a-43f8-a4c5-3701ba03c252"
      },
      "execution_count": 2,
      "outputs": [
        {
          "output_type": "stream",
          "name": "stdout",
          "text": [
            "Mounted at /content/drive\n",
            "emos2.mp4  emos.mp4  EMOTION_DETECTOR_1.pt\n"
          ]
        }
      ]
    },
    {
      "cell_type": "code",
      "source": [
        "#download video from drive\n",
        "!gdown --id 1RzZ9k_aYPYsY6kn0EB7luGuUliGnaJyL"
      ],
      "metadata": {
        "colab": {
          "base_uri": "https://localhost:8080/"
        },
        "id": "5C4eZdn7THQk",
        "outputId": "67597db8-c517-4cb3-a61e-e1fec2150c6c"
      },
      "execution_count": 4,
      "outputs": [
        {
          "output_type": "stream",
          "name": "stdout",
          "text": [
            "/usr/local/lib/python3.7/dist-packages/gdown/cli.py:131: FutureWarning: Option `--id` was deprecated in version 4.3.1 and will be removed in 5.0. You don't need to pass it anymore to use a file ID.\n",
            "  category=FutureWarning,\n",
            "Downloading...\n",
            "From: https://drive.google.com/uc?id=1RzZ9k_aYPYsY6kn0EB7luGuUliGnaJyL\n",
            "To: /content/videoplayback.mp4\n",
            "100% 429M/429M [00:04<00:00, 98.4MB/s]\n"
          ]
        }
      ]
    },
    {
      "cell_type": "code",
      "execution_count": 57,
      "metadata": {
        "id": "MqHaqxgecI8K"
      },
      "outputs": [],
      "source": [
        "from facenet_pytorch import MTCNN\n",
        "import os\n",
        "from PIL import Image\n",
        "import torch as pt\n",
        "from torchvision import transforms as trans\n",
        "from torch import nn\n",
        "from imutils.video import FileVideoStream\n",
        "import cv2\n",
        "import time\n",
        "import glob\n",
        "device= 'cuda' if pt.cuda.is_available() else 'cpu'\n",
        "# print(device)\n",
        "import numpy as np\n",
        "from matplotlib import pyplot as plt\n",
        "import math\n",
        "import seaborn as sns\n",
        "from scipy import stats"
      ]
    },
    {
      "cell_type": "code",
      "source": [
        "VID_PATH=\"/content/videoplayback.mp4\"\n",
        "#initialize the model, selecting GPU as device and keeping all faces\n",
        "mtcnn = MTCNN(select_largest=False, image_size=48, device='cuda', keep_all=False,post_process=False)\n",
        "\n",
        "#Load the video\n",
        "v_cap = cv2.VideoCapture(VID_PATH)\n",
        "v_len = int(v_cap.get(cv2.CAP_PROP_FRAME_COUNT))\n",
        "fps = int(v_cap.get(cv2.CAP_PROP_FPS))\n",
        "timestamps = [] #list for the timestamps\n",
        "\n",
        "# Loop through video\n",
        "batch_size = 256\n",
        "batch_num = 0\n",
        "frames = []\n",
        "boxes = []\n",
        "landmarks = []\n",
        "view_frames = []\n",
        "view_boxes = []\n",
        "view_landmarks = []\n",
        "sf = 1 # get one frame per second\n",
        "\n",
        "for i in range(v_len):\n",
        "    # Load frame\n",
        "    success, frame = v_cap.read()\n",
        "    #select every n frames\n",
        "    if i % math.floor(fps)*sf == 0: #skip to get every sf seconds\n",
        "        success, frame = v_cap.retrieve()\n",
        "    else:\n",
        "        continue\n",
        "    if not success:\n",
        "        print(\"ERROR\")\n",
        "        continue\n",
        "\n",
        "    # Add to batch, resizing for speed\n",
        "    frame = cv2.cvtColor(frame, cv2.COLOR_BGR2RGB)\n",
        "    frame = Image.fromarray(frame)\n",
        "    frame = frame.resize([int(f * 0.25) for f in frame.size])\n",
        "    frames.append(frame)\n",
        "    timestamps.append(math.floor(v_cap.get(cv2.CAP_PROP_POS_MSEC))//1000) #append timestamp of the frame\n",
        "    # print(math.floor(v_cap.get(cv2.CAP_PROP_POS_MSEC))*1000)\n",
        "    \n",
        "    # When batch is full, detect faces and reset batch list\n",
        "    if len(frames) >= batch_size:\n",
        "        #print(\"Executed MTCNN batch num\" + str(batch_num))\n",
        "        #define save path \n",
        "        save_paths = [f'drive/My Drive/cv project files/faces/{timestamps[i]}.jpg' for i in range(len(frames))]\n",
        "        #save all faces to files\n",
        "        mtcnn(frames, save_path=save_paths)\n",
        "        #increase batch number\n",
        "        batch_num += 1\n",
        "        frames = [] #clear frame list\n",
        "        timestamps = [] #clear timestamplist\n"
      ],
      "metadata": {
        "colab": {
          "base_uri": "https://localhost:8080/"
        },
        "id": "48F6Q5O5cyou",
        "outputId": "810baf6a-f79b-4da6-baba-6e8f2915ef7e"
      },
      "execution_count": 22,
      "outputs": [
        {
          "output_type": "stream",
          "name": "stderr",
          "text": [
            "/usr/local/lib/python3.7/dist-packages/torch/nn/functional.py:780: UserWarning: Note that order of the arguments: ceil_mode and return_indices will changeto match the args list in nn.MaxPool2d in a future release.\n",
            "  warnings.warn(\"Note that order of the arguments: ceil_mode and return_indices will change\"\n",
            "/usr/local/lib/python3.7/dist-packages/facenet_pytorch/models/utils/detect_face.py:183: VisibleDeprecationWarning: Creating an ndarray from ragged nested sequences (which is a list-or-tuple of lists-or-tuples-or ndarrays with different lengths or shapes) is deprecated. If you meant to do this, you must specify 'dtype=object' when creating the ndarray.\n",
            "  batch_boxes, batch_points = np.array(batch_boxes), np.array(batch_points)\n",
            "/usr/local/lib/python3.7/dist-packages/facenet_pytorch/models/mtcnn.py:339: VisibleDeprecationWarning: Creating an ndarray from ragged nested sequences (which is a list-or-tuple of lists-or-tuples-or ndarrays with different lengths or shapes) is deprecated. If you meant to do this, you must specify 'dtype=object' when creating the ndarray.\n",
            "  boxes = np.array(boxes)\n",
            "/usr/local/lib/python3.7/dist-packages/facenet_pytorch/models/mtcnn.py:341: VisibleDeprecationWarning: Creating an ndarray from ragged nested sequences (which is a list-or-tuple of lists-or-tuples-or ndarrays with different lengths or shapes) is deprecated. If you meant to do this, you must specify 'dtype=object' when creating the ndarray.\n",
            "  points = np.array(points)\n",
            "/usr/local/lib/python3.7/dist-packages/facenet_pytorch/models/mtcnn.py:444: VisibleDeprecationWarning: Creating an ndarray from ragged nested sequences (which is a list-or-tuple of lists-or-tuples-or ndarrays with different lengths or shapes) is deprecated. If you meant to do this, you must specify 'dtype=object' when creating the ndarray.\n",
            "  selected_boxes = np.array(selected_boxes)\n",
            "/usr/local/lib/python3.7/dist-packages/facenet_pytorch/models/mtcnn.py:446: VisibleDeprecationWarning: Creating an ndarray from ragged nested sequences (which is a list-or-tuple of lists-or-tuples-or ndarrays with different lengths or shapes) is deprecated. If you meant to do this, you must specify 'dtype=object' when creating the ndarray.\n",
            "  selected_points = np.array(selected_points)\n",
            "/usr/local/lib/python3.7/dist-packages/facenet_pytorch/models/mtcnn.py:340: VisibleDeprecationWarning: Creating an ndarray from ragged nested sequences (which is a list-or-tuple of lists-or-tuples-or ndarrays with different lengths or shapes) is deprecated. If you meant to do this, you must specify 'dtype=object' when creating the ndarray.\n",
            "  probs = np.array(probs)\n"
          ]
        }
      ]
    },
    {
      "cell_type": "code",
      "source": [
        "time_stamps=[]\n",
        "filelist = glob.glob('drive/My Drive/cv project files/faces/*')\n",
        "for f in filelist:\n",
        "  time_stamp=int(os.path.split(f)[1].split('.')[0])\n",
        "  time_stamps.append(time_stamp)\n",
        "np_time_stamps=np.array(time_stamps)\n",
        "\n",
        "np_images=np.array([Image.open(f) for f in filelist])\n"
      ],
      "metadata": {
        "colab": {
          "base_uri": "https://localhost:8080/"
        },
        "id": "hkmN1y6Ddsdk",
        "outputId": "d675febb-82ec-4089-811f-b0a0325b9fe4"
      },
      "execution_count": 44,
      "outputs": [
        {
          "output_type": "stream",
          "name": "stderr",
          "text": [
            "/usr/local/lib/python3.7/dist-packages/ipykernel_launcher.py:8: FutureWarning: The input object of type 'JpegImageFile' is an array-like implementing one of the corresponding protocols (`__array__`, `__array_interface__` or `__array_struct__`); but not a sequence (or 0-D). In the future, this object will be coerced as if it was first converted using `np.array(obj)`. To retain the old behaviour, you have to either modify the type 'JpegImageFile', or assign to an empty array created with `np.empty(correct_shape, dtype=object)`.\n",
            "  \n",
            "/usr/local/lib/python3.7/dist-packages/ipykernel_launcher.py:8: VisibleDeprecationWarning: Creating an ndarray from ragged nested sequences (which is a list-or-tuple of lists-or-tuples-or ndarrays with different lengths or shapes) is deprecated. If you meant to do this, you must specify 'dtype=object' when creating the ndarray.\n",
            "  \n"
          ]
        }
      ]
    },
    {
      "cell_type": "code",
      "source": [
        "# frame=cv2.imread(\"drive/My Drive/cv project files/sf.\")\n",
        "# frame = Image.fromarray(frame)\n",
        "# frame = frame.resize([int(f * 0.25) for f in frame.size])\n",
        "# faces=mtcnn(frame)\n",
        "\n",
        "# type(faces)\n",
        "# # fig, axes = plt.subplots(1, len(faces))\n",
        "# # for face, ax in zip(faces, axes):\n",
        "# #     ax.imshow(face.permute(1, 2, 0).int().numpy())\n",
        "# #     ax.axis('off')\n",
        "# # fig.show()"
      ],
      "metadata": {
        "colab": {
          "base_uri": "https://localhost:8080/"
        },
        "id": "dT2X9jf1KhKD",
        "outputId": "a9e11301-15b8-4413-94ce-39298b7e5525"
      },
      "execution_count": null,
      "outputs": [
        {
          "output_type": "stream",
          "name": "stderr",
          "text": [
            "/usr/local/lib/python3.7/dist-packages/torch/nn/functional.py:780: UserWarning: Note that order of the arguments: ceil_mode and return_indices will changeto match the args list in nn.MaxPool2d in a future release.\n",
            "  warnings.warn(\"Note that order of the arguments: ceil_mode and return_indices will change\"\n"
          ]
        },
        {
          "output_type": "execute_result",
          "data": {
            "text/plain": [
              "torch.Tensor"
            ]
          },
          "metadata": {},
          "execution_count": 21
        }
      ]
    },
    {
      "cell_type": "code",
      "source": [
        "class EmotionDetector(nn.Module):\n",
        "  def __init__(self, in_ch,classes):\n",
        "    super(EmotionDetector,self).__init__()\n",
        "\n",
        "    self.conv1=nn.Conv2d(in_channels=in_ch,out_channels=60, kernel_size=(3,3))\n",
        "    self.relu1=nn.ReLU()\n",
        "    self.bn1=nn.BatchNorm2d(60)\n",
        "    self.maxPool1=nn.MaxPool2d(kernel_size=(2,2), stride=(2,2))\n",
        "\n",
        "\n",
        "    self.conv2=nn.Conv2d(in_channels=60,out_channels=120, kernel_size=(3,3))\n",
        "    self.relu2=nn.ReLU()\n",
        "    self.bn2=nn.BatchNorm2d(120)\n",
        "    self.maxPool2=nn.MaxPool2d(kernel_size=(2,2), stride=(2,2))\n",
        "\n",
        "\n",
        "    self.conv3=nn.Conv2d(in_channels=120,out_channels=240, kernel_size=(3,3))\n",
        "    self.relu3=nn.ReLU()\n",
        "    self.bn3=nn.BatchNorm2d(240)\n",
        "    # self.maxPool3=nn.MaxPool2d(kernel_size=(2,2), stride=(2,2))\n",
        "    #28*28*1 -> 27-13-> 12-6 *80 -> 5*4*100\n",
        "    #    \n",
        "    self.dropout=nn.Dropout2d()\n",
        "\n",
        "    self.conv4=nn.Conv2d(in_channels=240,out_channels=480, kernel_size=(3,3))\n",
        "    self.relu4=nn.ReLU()\n",
        "    self.maxPool4=nn.MaxPool2d(kernel_size=(2,2), stride=(2,2))\n",
        "\n",
        "\n",
        "\n",
        "    # self.conv5=nn.Conv2d(in_channels=120,out_channels=150, kernel_size=(5,5))\n",
        "    # self.relu5=nn.ReLU()\n",
        "    # self.maxPool5=nn.MaxPool2d(kernel_size=(2,2), stride=(1,1))\n",
        "\n",
        "\n",
        "    self.fc1=nn.Linear(in_features=480*3*3,out_features=200)\n",
        "    self.relu_fc1=nn.ReLU()\n",
        "\n",
        "    self.fc2=nn.Linear(in_features=200,out_features=classes)\n",
        "    self.lsm=nn.LogSoftmax(dim=1)\n",
        "\n",
        "  def forward(self,x):\n",
        "    debug=False\n",
        "    x=x.float()\n",
        "    if debug : print(\"input to cv1 \",x.shape)\n",
        "    x=self.conv1(x)\n",
        "    if debug : print(\"input to mxp1\",x.shape)\n",
        "    x=self.bn1(x)\n",
        "    x=self.relu1(x)\n",
        "    x=self.maxPool1(x)\n",
        "    # x=self.dropout(x)\n",
        "\n",
        "\n",
        "    if debug :print(\"input to cv2\",x.shape)\n",
        "    x=self.conv2(x)\n",
        "    x=self.bn2(x)\n",
        "\n",
        "    if debug : print(\"input to mxp2\",x.shape)\n",
        "    x=self.relu2(x)\n",
        "    x=self.maxPool2(x)\n",
        "    # x=self.dropout(x)\n",
        "\n",
        "    if debug : print(\"input to cv3\",x.shape)\n",
        "    x=self.conv3(x)\n",
        "    x=self.bn3(x)\n",
        "    x=self.relu3(x)\n",
        "    if debug : print(\"input to mxp3\",x.shape)\n",
        "    # x=self.maxPool3(x)\n",
        "    x=self.dropout(x)\n",
        "\n",
        "    \n",
        "    x=self.conv4(x)\n",
        "    x=self.relu4(x)\n",
        "    x=self.maxPool4(x)\n",
        "    x=self.dropout(x)\n",
        "    # x=self.conv5(x)\n",
        "    # x=self.relu5(x)\n",
        "    # x=self.maxPool5(x)\n",
        "\n",
        "    if debug : print(\"input to fc1\",x.shape)\n",
        "    x = pt.flatten(x,1)\n",
        "    \n",
        "    x=self.fc1(x)\n",
        "    x=self.relu_fc1(x)\n",
        "    if debug : print(\"input to fc2 \",x.shape)\n",
        "    x=self.fc2(x)\n",
        "    if debug : print(\"input to lsm \",x.shape)\n",
        "    output=self.lsm(x)\n",
        "    if debug : print(\"final output \",x.shape)\n",
        "    return output\n"
      ],
      "metadata": {
        "id": "yEs6Y2Yyks2k"
      },
      "execution_count": 28,
      "outputs": []
    },
    {
      "cell_type": "code",
      "source": [
        "MODEL_NAME= 'EMOTION_DETECTOR_1.pt'\n",
        "MODEL_PATH = f\"drive/My Drive/cv project files//{MODEL_NAME}\" \n",
        "CLASSES=3\n",
        "model=EmotionDetector(in_ch=1,classes=CLASSES).to(device)\n",
        "model.load_state_dict(pt.load(MODEL_PATH))"
      ],
      "metadata": {
        "colab": {
          "base_uri": "https://localhost:8080/"
        },
        "id": "_I2r4px6lCLs",
        "outputId": "b9387976-d762-4a54-a254-1beabad1e7ba"
      },
      "execution_count": 29,
      "outputs": [
        {
          "output_type": "execute_result",
          "data": {
            "text/plain": [
              "<All keys matched successfully>"
            ]
          },
          "metadata": {},
          "execution_count": 29
        }
      ]
    },
    {
      "cell_type": "code",
      "source": [
        ""
      ],
      "metadata": {
        "id": "IfVHPVholSp0"
      },
      "execution_count": null,
      "outputs": []
    },
    {
      "cell_type": "code",
      "source": [
        "print(len(np_images))\n",
        "output_emo=[]\n",
        "model.eval()\n",
        "with pt.no_grad():\n",
        "  for image, time in zip(np_images,np_time_stamps):\n",
        "      image2 = Image.fromarray(np.uint8(image)).convert('L')\n",
        "      img = trans.ToTensor()(image2).type(pt.FloatTensor).to(\"cuda\").reshape(1,1,48,48)\n",
        "      pred=pt.exp(model(img))\n",
        "      idx=pred.argmax(axis=1).cpu().numpy()[0]\n",
        "      output_emo.append(idx)"
      ],
      "metadata": {
        "id": "WSeUxe6AktbL",
        "colab": {
          "base_uri": "https://localhost:8080/"
        },
        "outputId": "ce83f85a-19d5-4a21-d6b7-8a8b0dcd2a0c"
      },
      "execution_count": 78,
      "outputs": [
        {
          "output_type": "stream",
          "name": "stdout",
          "text": [
            "9283\n"
          ]
        }
      ]
    },
    {
      "cell_type": "code",
      "source": [
        "print(output_emo[1:50])\n",
        "print(time_stamps[1:50])\n",
        "np_emo=np.array(output_emo)\n",
        "np_ts=np.array(time_stamps)"
      ],
      "metadata": {
        "id": "QGShfM8ccsG1",
        "colab": {
          "base_uri": "https://localhost:8080/"
        },
        "outputId": "f2b29f50-2952-4bad-c151-1cf3454f5339"
      },
      "execution_count": 82,
      "outputs": [
        {
          "output_type": "stream",
          "name": "stdout",
          "text": [
            "[0, 0, 1, 1, 0, 2, 2, 2, 0, 0, 0, 1, 2, 0, 0, 2, 1, 0, 0, 0, 1, 0, 1, 1, 2, 2, 2, 2, 2, 0, 2, 2, 2, 1, 1, 1, 2, 2, 2, 2, 2, 1, 2, 2, 2, 2, 2, 2, 2]\n",
            "[2, 5, 6, 7, 8, 9, 10, 11, 12, 13, 14, 15, 20, 21, 22, 23, 24, 25, 26, 27, 28, 29, 30, 31, 32, 33, 34, 35, 36, 37, 38, 39, 40, 41, 42, 43, 44, 45, 46, 47, 48, 49, 50, 51, 52, 53, 54, 55, 56]\n"
          ]
        }
      ]
    },
    {
      "cell_type": "code",
      "source": [
        "i =0\n",
        "#every 1 min get mode\n",
        "step =60\n",
        "#new time stamps every element represent a minute\n",
        "ticks=[]\n",
        "emotion_min=[]\n",
        "min=0\n",
        "while i +step < len(np_emo):\n",
        "  #dont panic, jsut calculating the mode,\n",
        "  #returns a tuple of lists get first e from tuple then first from list\n",
        "  emotion_min.append(stats.mode(np_emo[i:i+step])[0][0])\n",
        "  ticks.append(min)\n",
        "  min+=1\n",
        "  i=i+step\n"
      ],
      "metadata": {
        "id": "TSjjTgRZscYn"
      },
      "execution_count": 83,
      "outputs": []
    },
    {
      "cell_type": "code",
      "source": [
        "import pandas as pd\n",
        "df=pd.DataFrame()\n",
        "df['emotion']=emotion_min\n",
        "df['time_Stamps']=ticks\n",
        "df.head()"
      ],
      "metadata": {
        "colab": {
          "base_uri": "https://localhost:8080/",
          "height": 206
        },
        "id": "PYCVUgyBoOI1",
        "outputId": "1cf1e49f-0ce7-449d-d635-b5860f2903a3"
      },
      "execution_count": 84,
      "outputs": [
        {
          "output_type": "execute_result",
          "data": {
            "text/plain": [
              "   emotion  time_Stamps\n",
              "0        2            0\n",
              "1        2            1\n",
              "2        2            2\n",
              "3        2            3\n",
              "4        2            4"
            ],
            "text/html": [
              "\n",
              "  <div id=\"df-7570e0c4-4704-4a8e-bc92-192fd2b62533\">\n",
              "    <div class=\"colab-df-container\">\n",
              "      <div>\n",
              "<style scoped>\n",
              "    .dataframe tbody tr th:only-of-type {\n",
              "        vertical-align: middle;\n",
              "    }\n",
              "\n",
              "    .dataframe tbody tr th {\n",
              "        vertical-align: top;\n",
              "    }\n",
              "\n",
              "    .dataframe thead th {\n",
              "        text-align: right;\n",
              "    }\n",
              "</style>\n",
              "<table border=\"1\" class=\"dataframe\">\n",
              "  <thead>\n",
              "    <tr style=\"text-align: right;\">\n",
              "      <th></th>\n",
              "      <th>emotion</th>\n",
              "      <th>time_Stamps</th>\n",
              "    </tr>\n",
              "  </thead>\n",
              "  <tbody>\n",
              "    <tr>\n",
              "      <th>0</th>\n",
              "      <td>2</td>\n",
              "      <td>0</td>\n",
              "    </tr>\n",
              "    <tr>\n",
              "      <th>1</th>\n",
              "      <td>2</td>\n",
              "      <td>1</td>\n",
              "    </tr>\n",
              "    <tr>\n",
              "      <th>2</th>\n",
              "      <td>2</td>\n",
              "      <td>2</td>\n",
              "    </tr>\n",
              "    <tr>\n",
              "      <th>3</th>\n",
              "      <td>2</td>\n",
              "      <td>3</td>\n",
              "    </tr>\n",
              "    <tr>\n",
              "      <th>4</th>\n",
              "      <td>2</td>\n",
              "      <td>4</td>\n",
              "    </tr>\n",
              "  </tbody>\n",
              "</table>\n",
              "</div>\n",
              "      <button class=\"colab-df-convert\" onclick=\"convertToInteractive('df-7570e0c4-4704-4a8e-bc92-192fd2b62533')\"\n",
              "              title=\"Convert this dataframe to an interactive table.\"\n",
              "              style=\"display:none;\">\n",
              "        \n",
              "  <svg xmlns=\"http://www.w3.org/2000/svg\" height=\"24px\"viewBox=\"0 0 24 24\"\n",
              "       width=\"24px\">\n",
              "    <path d=\"M0 0h24v24H0V0z\" fill=\"none\"/>\n",
              "    <path d=\"M18.56 5.44l.94 2.06.94-2.06 2.06-.94-2.06-.94-.94-2.06-.94 2.06-2.06.94zm-11 1L8.5 8.5l.94-2.06 2.06-.94-2.06-.94L8.5 2.5l-.94 2.06-2.06.94zm10 10l.94 2.06.94-2.06 2.06-.94-2.06-.94-.94-2.06-.94 2.06-2.06.94z\"/><path d=\"M17.41 7.96l-1.37-1.37c-.4-.4-.92-.59-1.43-.59-.52 0-1.04.2-1.43.59L10.3 9.45l-7.72 7.72c-.78.78-.78 2.05 0 2.83L4 21.41c.39.39.9.59 1.41.59.51 0 1.02-.2 1.41-.59l7.78-7.78 2.81-2.81c.8-.78.8-2.07 0-2.86zM5.41 20L4 18.59l7.72-7.72 1.47 1.35L5.41 20z\"/>\n",
              "  </svg>\n",
              "      </button>\n",
              "      \n",
              "  <style>\n",
              "    .colab-df-container {\n",
              "      display:flex;\n",
              "      flex-wrap:wrap;\n",
              "      gap: 12px;\n",
              "    }\n",
              "\n",
              "    .colab-df-convert {\n",
              "      background-color: #E8F0FE;\n",
              "      border: none;\n",
              "      border-radius: 50%;\n",
              "      cursor: pointer;\n",
              "      display: none;\n",
              "      fill: #1967D2;\n",
              "      height: 32px;\n",
              "      padding: 0 0 0 0;\n",
              "      width: 32px;\n",
              "    }\n",
              "\n",
              "    .colab-df-convert:hover {\n",
              "      background-color: #E2EBFA;\n",
              "      box-shadow: 0px 1px 2px rgba(60, 64, 67, 0.3), 0px 1px 3px 1px rgba(60, 64, 67, 0.15);\n",
              "      fill: #174EA6;\n",
              "    }\n",
              "\n",
              "    [theme=dark] .colab-df-convert {\n",
              "      background-color: #3B4455;\n",
              "      fill: #D2E3FC;\n",
              "    }\n",
              "\n",
              "    [theme=dark] .colab-df-convert:hover {\n",
              "      background-color: #434B5C;\n",
              "      box-shadow: 0px 1px 3px 1px rgba(0, 0, 0, 0.15);\n",
              "      filter: drop-shadow(0px 1px 2px rgba(0, 0, 0, 0.3));\n",
              "      fill: #FFFFFF;\n",
              "    }\n",
              "  </style>\n",
              "\n",
              "      <script>\n",
              "        const buttonEl =\n",
              "          document.querySelector('#df-7570e0c4-4704-4a8e-bc92-192fd2b62533 button.colab-df-convert');\n",
              "        buttonEl.style.display =\n",
              "          google.colab.kernel.accessAllowed ? 'block' : 'none';\n",
              "\n",
              "        async function convertToInteractive(key) {\n",
              "          const element = document.querySelector('#df-7570e0c4-4704-4a8e-bc92-192fd2b62533');\n",
              "          const dataTable =\n",
              "            await google.colab.kernel.invokeFunction('convertToInteractive',\n",
              "                                                     [key], {});\n",
              "          if (!dataTable) return;\n",
              "\n",
              "          const docLinkHtml = 'Like what you see? Visit the ' +\n",
              "            '<a target=\"_blank\" href=https://colab.research.google.com/notebooks/data_table.ipynb>data table notebook</a>'\n",
              "            + ' to learn more about interactive tables.';\n",
              "          element.innerHTML = '';\n",
              "          dataTable['output_type'] = 'display_data';\n",
              "          await google.colab.output.renderOutput(dataTable, element);\n",
              "          const docLink = document.createElement('div');\n",
              "          docLink.innerHTML = docLinkHtml;\n",
              "          element.appendChild(docLink);\n",
              "        }\n",
              "      </script>\n",
              "    </div>\n",
              "  </div>\n",
              "  "
            ]
          },
          "metadata": {},
          "execution_count": 84
        }
      ]
    },
    {
      "cell_type": "code",
      "source": [
        "sns.set(rc={'figure.figsize':(16,5)})\n",
        "sns.histplot(data=df, x='time_Stamps', hue='emotion', multiple='fill')"
      ],
      "metadata": {
        "colab": {
          "base_uri": "https://localhost:8080/",
          "height": 335
        },
        "id": "u2RLxJhGoLW2",
        "outputId": "eb3ba794-1875-4700-f201-44bd0dc8a429"
      },
      "execution_count": 85,
      "outputs": [
        {
          "output_type": "execute_result",
          "data": {
            "text/plain": [
              "<matplotlib.axes._subplots.AxesSubplot at 0x7f1fb2dc6510>"
            ]
          },
          "metadata": {},
          "execution_count": 85
        },
        {
          "output_type": "display_data",
          "data": {
            "text/plain": [
              "<Figure size 1152x360 with 1 Axes>"
            ],
            "image/png": "[encoded data removed]"
          },
          "metadata": {}
        }
      ]
    }
  ]
}