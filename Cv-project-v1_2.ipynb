{
  "cells": [
    {
      "cell_type": "markdown",
      "metadata": {
        "id": "view-in-github",
        "colab_type": "text"
      },
      "source": [
        "<a href=\"https://colab.research.google.com/github/BishoyAbd/CV-projec-v1_1/blob/CV-projec-v1_2/Cv-project-v1_2.ipynb\" target=\"_parent\"><img src=\"https://colab.research.google.com/assets/colab-badge.svg\" alt=\"Open In Colab\"/></a>"
      ]
    },
    {
      "cell_type": "code",
      "source": [
        "! pip install -q kaggle\n",
        "from google.colab import files\n",
        "files.upload()\n",
        "\n",
        "!rm -r ~/.kaggle\n",
        "!mkdir ~/.kaggle\n",
        "!mv ./kaggle.json ~/.kaggle/\n",
        "!chmod 600 ~/.kaggle/kaggle.json\n",
        "!kaggle datasets list\n",
        "\n",
        "!pip install mtcnn\n"
      ],
      "metadata": {
        "id": "zoER0EjIlZ5k",
        "colab": {
          "resources": {
            "http://localhost:8080/nbextensions/google.colab/files.js": {
              "data": "Ly8gQ29weXJpZ2h0IDIwMTcgR29vZ2xlIExMQwovLwovLyBMaWNlbnNlZCB1bmRlciB0aGUgQXBhY2hlIExpY2Vuc2UsIFZlcnNpb24gMi4wICh0aGUgIkxpY2Vuc2UiKTsKLy8geW91IG1heSBub3QgdXNlIHRoaXMgZmlsZSBleGNlcHQgaW4gY29tcGxpYW5jZSB3aXRoIHRoZSBMaWNlbnNlLgovLyBZb3UgbWF5IG9idGFpbiBhIGNvcHkgb2YgdGhlIExpY2Vuc2UgYXQKLy8KLy8gICAgICBodHRwOi8vd3d3LmFwYWNoZS5vcmcvbGljZW5zZXMvTElDRU5TRS0yLjAKLy8KLy8gVW5sZXNzIHJlcXVpcmVkIGJ5IGFwcGxpY2FibGUgbGF3IG9yIGFncmVlZCB0byBpbiB3cml0aW5nLCBzb2Z0d2FyZQovLyBkaXN0cmlidXRlZCB1bmRlciB0aGUgTGljZW5zZSBpcyBkaXN0cmlidXRlZCBvbiBhbiAiQVMgSVMiIEJBU0lTLAovLyBXSVRIT1VUIFdBUlJBTlRJRVMgT1IgQ09ORElUSU9OUyBPRiBBTlkgS0lORCwgZWl0aGVyIGV4cHJlc3Mgb3IgaW1wbGllZC4KLy8gU2VlIHRoZSBMaWNlbnNlIGZvciB0aGUgc3BlY2lmaWMgbGFuZ3VhZ2UgZ292ZXJuaW5nIHBlcm1pc3Npb25zIGFuZAovLyBsaW1pdGF0aW9ucyB1bmRlciB0aGUgTGljZW5zZS4KCi8qKgogKiBAZmlsZW92ZXJ2aWV3IEhlbHBlcnMgZm9yIGdvb2dsZS5jb2xhYiBQeXRob24gbW9kdWxlLgogKi8KKGZ1bmN0aW9uKHNjb3BlKSB7CmZ1bmN0aW9uIHNwYW4odGV4dCwgc3R5bGVBdHRyaWJ1dGVzID0ge30pIHsKICBjb25zdCBlbGVtZW50ID0gZG9jdW1lbnQuY3JlYXRlRWxlbWVudCgnc3BhbicpOwogIGVsZW1lbnQudGV4dENvbnRlbnQgPSB0ZXh0OwogIGZvciAoY29uc3Qga2V5IG9mIE9iamVjdC5rZXlzKHN0eWxlQXR0cmlidXRlcykpIHsKICAgIGVsZW1lbnQuc3R5bGVba2V5XSA9IHN0eWxlQXR0cmlidXRlc1trZXldOwogIH0KICByZXR1cm4gZWxlbWVudDsKfQoKLy8gTWF4IG51bWJlciBvZiBieXRlcyB3aGljaCB3aWxsIGJlIHVwbG9hZGVkIGF0IGEgdGltZS4KY29uc3QgTUFYX1BBWUxPQURfU0laRSA9IDEwMCAqIDEwMjQ7CgpmdW5jdGlvbiBfdXBsb2FkRmlsZXMoaW5wdXRJZCwgb3V0cHV0SWQpIHsKICBjb25zdCBzdGVwcyA9IHVwbG9hZEZpbGVzU3RlcChpbnB1dElkLCBvdXRwdXRJZCk7CiAgY29uc3Qgb3V0cHV0RWxlbWVudCA9IGRvY3VtZW50LmdldEVsZW1lbnRCeUlkKG91dHB1dElkKTsKICAvLyBDYWNoZSBzdGVwcyBvbiB0aGUgb3V0cHV0RWxlbWVudCB0byBtYWtlIGl0IGF2YWlsYWJsZSBmb3IgdGhlIG5leHQgY2FsbAogIC8vIHRvIHVwbG9hZEZpbGVzQ29udGludWUgZnJvbSBQeXRob24uCiAgb3V0cHV0RWxlbWVudC5zdGVwcyA9IHN0ZXBzOwoKICByZXR1cm4gX3VwbG9hZEZpbGVzQ29udGludWUob3V0cHV0SWQpOwp9CgovLyBUaGlzIGlzIHJvdWdobHkgYW4gYXN5bmMgZ2VuZXJhdG9yIChub3Qgc3VwcG9ydGVkIGluIHRoZSBicm93c2VyIHlldCksCi8vIHdoZXJlIHRoZXJlIGFyZSBtdWx0aXBsZSBhc3luY2hyb25vdXMgc3RlcHMgYW5kIHRoZSBQeXRob24gc2lkZSBpcyBnb2luZwovLyB0byBwb2xsIGZvciBjb21wbGV0aW9uIG9mIGVhY2ggc3RlcC4KLy8gVGhpcyB1c2VzIGEgUHJvbWlzZSB0byBibG9jayB0aGUgcHl0aG9uIHNpZGUgb24gY29tcGxldGlvbiBvZiBlYWNoIHN0ZXAsCi8vIHRoZW4gcGFzc2VzIHRoZSByZXN1bHQgb2YgdGhlIHByZXZpb3VzIHN0ZXAgYXMgdGhlIGlucHV0IHRvIHRoZSBuZXh0IHN0ZXAuCmZ1bmN0aW9uIF91cGxvYWRGaWxlc0NvbnRpbnVlKG91dHB1dElkKSB7CiAgY29uc3Qgb3V0cHV0RWxlbWVudCA9IGRvY3VtZW50LmdldEVsZW1lbnRCeUlkKG91dHB1dElkKTsKICBjb25zdCBzdGVwcyA9IG91dHB1dEVsZW1lbnQuc3RlcHM7CgogIGNvbnN0IG5leHQgPSBzdGVwcy5uZXh0KG91dHB1dEVsZW1lbnQubGFzdFByb21pc2VWYWx1ZSk7CiAgcmV0dXJuIFByb21pc2UucmVzb2x2ZShuZXh0LnZhbHVlLnByb21pc2UpLnRoZW4oKHZhbHVlKSA9PiB7CiAgICAvLyBDYWNoZSB0aGUgbGFzdCBwcm9taXNlIHZhbHVlIHRvIG1ha2UgaXQgYXZhaWxhYmxlIHRvIHRoZSBuZXh0CiAgICAvLyBzdGVwIG9mIHRoZSBnZW5lcmF0b3IuCiAgICBvdXRwdXRFbGVtZW50Lmxhc3RQcm9taXNlVmFsdWUgPSB2YWx1ZTsKICAgIHJldHVybiBuZXh0LnZhbHVlLnJlc3BvbnNlOwogIH0pOwp9CgovKioKICogR2VuZXJhdG9yIGZ1bmN0aW9uIHdoaWNoIGlzIGNhbGxlZCBiZXR3ZWVuIGVhY2ggYXN5bmMgc3RlcCBvZiB0aGUgdXBsb2FkCiAqIHByb2Nlc3MuCiAqIEBwYXJhbSB7c3RyaW5nfSBpbnB1dElkIEVsZW1lbnQgSUQgb2YgdGhlIGlucHV0IGZpbGUgcGlja2VyIGVsZW1lbnQuCiAqIEBwYXJhbSB7c3RyaW5nfSBvdXRwdXRJZCBFbGVtZW50IElEIG9mIHRoZSBvdXRwdXQgZGlzcGxheS4KICogQHJldHVybiB7IUl0ZXJhYmxlPCFPYmplY3Q+fSBJdGVyYWJsZSBvZiBuZXh0IHN0ZXBzLgogKi8KZnVuY3Rpb24qIHVwbG9hZEZpbGVzU3RlcChpbnB1dElkLCBvdXRwdXRJZCkgewogIGNvbnN0IGlucHV0RWxlbWVudCA9IGRvY3VtZW50LmdldEVsZW1lbnRCeUlkKGlucHV0SWQpOwogIGlucHV0RWxlbWVudC5kaXNhYmxlZCA9IGZhbHNlOwoKICBjb25zdCBvdXRwdXRFbGVtZW50ID0gZG9jdW1lbnQuZ2V0RWxlbWVudEJ5SWQob3V0cHV0SWQpOwogIG91dHB1dEVsZW1lbnQuaW5uZXJIVE1MID0gJyc7CgogIGNvbnN0IHBpY2tlZFByb21pc2UgPSBuZXcgUHJvbWlzZSgocmVzb2x2ZSkgPT4gewogICAgaW5wdXRFbGVtZW50LmFkZEV2ZW50TGlzdGVuZXIoJ2NoYW5nZScsIChlKSA9PiB7CiAgICAgIHJlc29sdmUoZS50YXJnZXQuZmlsZXMpOwogICAgfSk7CiAgfSk7CgogIGNvbnN0IGNhbmNlbCA9IGRvY3VtZW50LmNyZWF0ZUVsZW1lbnQoJ2J1dHRvbicpOwogIGlucHV0RWxlbWVudC5wYXJlbnRFbGVtZW50LmFwcGVuZENoaWxkKGNhbmNlbCk7CiAgY2FuY2VsLnRleHRDb250ZW50ID0gJ0NhbmNlbCB1cGxvYWQnOwogIGNvbnN0IGNhbmNlbFByb21pc2UgPSBuZXcgUHJvbWlzZSgocmVzb2x2ZSkgPT4gewogICAgY2FuY2VsLm9uY2xpY2sgPSAoKSA9PiB7CiAgICAgIHJlc29sdmUobnVsbCk7CiAgICB9OwogIH0pOwoKICAvLyBXYWl0IGZvciB0aGUgdXNlciB0byBwaWNrIHRoZSBmaWxlcy4KICBjb25zdCBmaWxlcyA9IHlpZWxkIHsKICAgIHByb21pc2U6IFByb21pc2UucmFjZShbcGlja2VkUHJvbWlzZSwgY2FuY2VsUHJvbWlzZV0pLAogICAgcmVzcG9uc2U6IHsKICAgICAgYWN0aW9uOiAnc3RhcnRpbmcnLAogICAgfQogIH07CgogIGNhbmNlbC5yZW1vdmUoKTsKCiAgLy8gRGlzYWJsZSB0aGUgaW5wdXQgZWxlbWVudCBzaW5jZSBmdXJ0aGVyIHBpY2tzIGFyZSBub3QgYWxsb3dlZC4KICBpbnB1dEVsZW1lbnQuZGlzYWJsZWQgPSB0cnVlOwoKICBpZiAoIWZpbGVzKSB7CiAgICByZXR1cm4gewogICAgICByZXNwb25zZTogewogICAgICAgIGFjdGlvbjogJ2NvbXBsZXRlJywKICAgICAgfQogICAgfTsKICB9CgogIGZvciAoY29uc3QgZmlsZSBvZiBmaWxlcykgewogICAgY29uc3QgbGkgPSBkb2N1bWVudC5jcmVhdGVFbGVtZW50KCdsaScpOwogICAgbGkuYXBwZW5kKHNwYW4oZmlsZS5uYW1lLCB7Zm9udFdlaWdodDogJ2JvbGQnfSkpOwogICAgbGkuYXBwZW5kKHNwYW4oCiAgICAgICAgYCgke2ZpbGUudHlwZSB8fCAnbi9hJ30pIC0gJHtmaWxlLnNpemV9IGJ5dGVzLCBgICsKICAgICAgICBgbGFzdCBtb2RpZmllZDogJHsKICAgICAgICAgICAgZmlsZS5sYXN0TW9kaWZpZWREYXRlID8gZmlsZS5sYXN0TW9kaWZpZWREYXRlLnRvTG9jYWxlRGF0ZVN0cmluZygpIDoKICAgICAgICAgICAgICAgICAgICAgICAgICAgICAgICAgICAgJ24vYSd9IC0gYCkpOwogICAgY29uc3QgcGVyY2VudCA9IHNwYW4oJzAlIGRvbmUnKTsKICAgIGxpLmFwcGVuZENoaWxkKHBlcmNlbnQpOwoKICAgIG91dHB1dEVsZW1lbnQuYXBwZW5kQ2hpbGQobGkpOwoKICAgIGNvbnN0IGZpbGVEYXRhUHJvbWlzZSA9IG5ldyBQcm9taXNlKChyZXNvbHZlKSA9PiB7CiAgICAgIGNvbnN0IHJlYWRlciA9IG5ldyBGaWxlUmVhZGVyKCk7CiAgICAgIHJlYWRlci5vbmxvYWQgPSAoZSkgPT4gewogICAgICAgIHJlc29sdmUoZS50YXJnZXQucmVzdWx0KTsKICAgICAgfTsKICAgICAgcmVhZGVyLnJlYWRBc0FycmF5QnVmZmVyKGZpbGUpOwogICAgfSk7CiAgICAvLyBXYWl0IGZvciB0aGUgZGF0YSB0byBiZSByZWFkeS4KICAgIGxldCBmaWxlRGF0YSA9IHlpZWxkIHsKICAgICAgcHJvbWlzZTogZmlsZURhdGFQcm9taXNlLAogICAgICByZXNwb25zZTogewogICAgICAgIGFjdGlvbjogJ2NvbnRpbnVlJywKICAgICAgfQogICAgfTsKCiAgICAvLyBVc2UgYSBjaHVua2VkIHNlbmRpbmcgdG8gYXZvaWQgbWVzc2FnZSBzaXplIGxpbWl0cy4gU2VlIGIvNjIxMTU2NjAuCiAgICBsZXQgcG9zaXRpb24gPSAwOwogICAgZG8gewogICAgICBjb25zdCBsZW5ndGggPSBNYXRoLm1pbihmaWxlRGF0YS5ieXRlTGVuZ3RoIC0gcG9zaXRpb24sIE1BWF9QQVlMT0FEX1NJWkUpOwogICAgICBjb25zdCBjaHVuayA9IG5ldyBVaW50OEFycmF5KGZpbGVEYXRhLCBwb3NpdGlvbiwgbGVuZ3RoKTsKICAgICAgcG9zaXRpb24gKz0gbGVuZ3RoOwoKICAgICAgY29uc3QgYmFzZTY0ID0gYnRvYShTdHJpbmcuZnJvbUNoYXJDb2RlLmFwcGx5KG51bGwsIGNodW5rKSk7CiAgICAgIHlpZWxkIHsKICAgICAgICByZXNwb25zZTogewogICAgICAgICAgYWN0aW9uOiAnYXBwZW5kJywKICAgICAgICAgIGZpbGU6IGZpbGUubmFtZSwKICAgICAgICAgIGRhdGE6IGJhc2U2NCwKICAgICAgICB9LAogICAgICB9OwoKICAgICAgbGV0IHBlcmNlbnREb25lID0gZmlsZURhdGEuYnl0ZUxlbmd0aCA9PT0gMCA/CiAgICAgICAgICAxMDAgOgogICAgICAgICAgTWF0aC5yb3VuZCgocG9zaXRpb24gLyBmaWxlRGF0YS5ieXRlTGVuZ3RoKSAqIDEwMCk7CiAgICAgIHBlcmNlbnQudGV4dENvbnRlbnQgPSBgJHtwZXJjZW50RG9uZX0lIGRvbmVgOwoKICAgIH0gd2hpbGUgKHBvc2l0aW9uIDwgZmlsZURhdGEuYnl0ZUxlbmd0aCk7CiAgfQoKICAvLyBBbGwgZG9uZS4KICB5aWVsZCB7CiAgICByZXNwb25zZTogewogICAgICBhY3Rpb246ICdjb21wbGV0ZScsCiAgICB9CiAgfTsKfQoKc2NvcGUuZ29vZ2xlID0gc2NvcGUuZ29vZ2xlIHx8IHt9OwpzY29wZS5nb29nbGUuY29sYWIgPSBzY29wZS5nb29nbGUuY29sYWIgfHwge307CnNjb3BlLmdvb2dsZS5jb2xhYi5fZmlsZXMgPSB7CiAgX3VwbG9hZEZpbGVzLAogIF91cGxvYWRGaWxlc0NvbnRpbnVlLAp9Owp9KShzZWxmKTsK",
              "ok": true,
              "headers": [
                [
                  "content-type",
                  "application/javascript"
                ]
              ],
              "status": 200,
              "status_text": "OK"
            }
          },
          "base_uri": "https://localhost:8080/",
          "height": 564
        },
        "outputId": "8ccf50cc-d15e-4824-bdbb-123419ac11b5"
      },
      "execution_count": 187,
      "outputs": [
        {
          "output_type": "display_data",
          "data": {
            "text/plain": [
              "<IPython.core.display.HTML object>"
            ],
            "text/html": [
              "\n",
              "     <input type=\"file\" id=\"files-271fd389-3bb7-43de-aef7-8c1bdd5b54e9\" name=\"files[]\" multiple disabled\n",
              "        style=\"border:none\" />\n",
              "     <output id=\"result-271fd389-3bb7-43de-aef7-8c1bdd5b54e9\">\n",
              "      Upload widget is only available when the cell has been executed in the\n",
              "      current browser session. Please rerun this cell to enable.\n",
              "      </output>\n",
              "      <script src=\"/nbextensions/google.colab/files.js\"></script> "
            ]
          },
          "metadata": {}
        },
        {
          "output_type": "stream",
          "name": "stdout",
          "text": [
            "Saving kaggle.json to kaggle.json\n",
            "ref                                                             title                                                size  lastUpdated          downloadCount  voteCount  usabilityRating  \n",
            "--------------------------------------------------------------  --------------------------------------------------  -----  -------------------  -------------  ---------  ---------------  \n",
            "victorsoeiro/netflix-tv-shows-and-movies                        Netflix TV Shows and Movies                           2MB  2022-05-15 00:01:23          10930        330  1.0              \n",
            "zusmani/petrolgas-prices-worldwide                              Petrol/Gas Prices Worldwide                          10KB  2022-06-24 01:25:33            601         55  1.0              \n",
            "devansodariya/student-performance-data                          Student Performance Dataset                           7KB  2022-05-26 13:55:09           6186        183  0.9705882        \n",
            "ruchi798/data-science-job-salaries                              Data Science Job Salaries                             7KB  2022-06-15 08:59:12           1272         52  1.0              \n",
            "sameepvani/nasa-nearest-earth-objects                           NASA - Nearest Earth Objects                          7MB  2022-06-17 02:32:18            762         50  1.0              \n",
            "iamsouravbanerjee/software-professional-salaries-2022           Salary Dataset - 2022                               526KB  2022-06-15 17:13:05           2194         57  1.0              \n",
            "dansbecker/melbourne-housing-snapshot                           Melbourne Housing Snapshot                          451KB  2018-06-05 12:52:24          89590       1099  0.7058824        \n",
            "imoore/age-dataset                                              Age dataset: life, work, and death of 1.22M people   34MB  2022-06-07 08:56:52           1037         59  1.0              \n",
            "madhurpant/data-science-jobs-in-india                           Data Science Jobs in India                           25KB  2022-06-24 02:28:42            125         12  1.0              \n",
            "mohamedharris/supermart-grocery-sales-retail-analytics-dataset  Supermart Grocery Sales - Retail Analytics Dataset  191KB  2022-06-12 16:14:44            970         46  0.88235295       \n",
            "azminetoushikwasi/ucl-202122-uefa-champions-league              UCL ⚽ 2021-22 ⭐ Players Data | Champions League      55KB  2022-06-20 03:01:18           1939         60  1.0              \n",
            "datasnaek/youtube-new                                           Trending YouTube Video Statistics                   201MB  2019-06-03 00:56:47         177708       4572  0.7941176        \n",
            "jimschacko/airlines-dataset-to-predict-a-delay                  Airlines Dataset to predict a delay                   6MB  2022-06-21 05:45:44            415         25  1.0              \n",
            "zynicide/wine-reviews                                           Wine Reviews                                         51MB  2017-11-27 17:08:04         162068       3330  0.7941176        \n",
            "iabhishekofficial/mobile-price-classification                   Mobile Price Classification                          71KB  2018-01-28 08:44:24          90356       1231  0.7058824        \n",
            "raddar/amex-data-integer-dtypes-parquet-format                  AMEX data - integer dtypes - parquet format           4GB  2022-06-03 10:31:28           2565        230  0.4375           \n",
            "hanzlanawaz/monkeypox-outbreak                                  Monkeypox Outbreak Dataset                           27KB  2022-06-06 03:13:58            972         46  0.9705882        \n",
            "rtatman/188-million-us-wildfires                                1.88 Million US Wildfires                           168MB  2020-05-12 21:03:49          20480       1010  0.8235294        \n",
            "residentmario/ramen-ratings                                     Ramen Ratings                                        40KB  2018-01-11 16:04:39          34528        792  0.7058824        \n",
            "datasnaek/chess                                                 Chess Game Dataset (Lichess)                          3MB  2017-09-04 03:09:09          30192       1013  0.8235294        \n",
            "Looking in indexes: https://pypi.org/simple, https://us-python.pkg.dev/colab-wheels/public/simple/\n",
            "Requirement already satisfied: mtcnn in /usr/local/lib/python3.7/dist-packages (0.1.1)\n",
            "Requirement already satisfied: keras>=2.0.0 in /usr/local/lib/python3.7/dist-packages (from mtcnn) (2.8.0)\n",
            "Requirement already satisfied: opencv-python>=4.1.0 in /usr/local/lib/python3.7/dist-packages (from mtcnn) (4.1.2.30)\n",
            "Requirement already satisfied: numpy>=1.14.5 in /usr/local/lib/python3.7/dist-packages (from opencv-python>=4.1.0->mtcnn) (1.21.6)\n"
          ]
        }
      ]
    },
    {
      "cell_type": "code",
      "source": [
        "# !kaggle competitions download -c challenges-in-representation-learning-facial-expression-recognition-challenge"
      ],
      "metadata": {
        "id": "fa-v-KlClgGc"
      },
      "execution_count": 188,
      "outputs": []
    },
    {
      "cell_type": "code",
      "source": [
        "!mkdir data\n",
        "!unzip challenges-in-representation-learning-facial-expression-recognition-challenge.zip -d data"
      ],
      "metadata": {
        "id": "X6TfGOEXmroE",
        "colab": {
          "base_uri": "https://localhost:8080/"
        },
        "outputId": "40b684c3-81a3-4771-d369-4646b5043df9"
      },
      "execution_count": 189,
      "outputs": [
        {
          "output_type": "stream",
          "name": "stdout",
          "text": [
            "mkdir: cannot create directory ‘data’: File exists\n",
            "Archive:  challenges-in-representation-learning-facial-expression-recognition-challenge.zip\n",
            "replace data/example_submission.csv? [y]es, [n]o, [A]ll, [N]one, [r]ename: N\n"
          ]
        }
      ]
    },
    {
      "cell_type": "code",
      "execution_count": 190,
      "metadata": {
        "id": "GSzMIiaQnQfV"
      },
      "outputs": [],
      "source": [
        "import os\n",
        "os.environ['CUDA_LAUNCH_BLOCKING'] = \"1\"\n",
        "import torch as pt\n",
        "import torchvision\n",
        "import torch.nn as nn\n",
        "\n",
        "from torchvision.datasets import KMNIST\n",
        "\n",
        "from  torch.utils.data import random_split, DataLoader\n",
        "import torchvision.transforms as trans\n",
        "import torch.optim as optim\n",
        "\n",
        "from sklearn.metrics import classification_report\n",
        "\n",
        "import matplotlib.pyplot as plt\n",
        "import matplotlib\n",
        "\n",
        "import numpy as np\n",
        "import argparse\n",
        "import pandas as pd\n",
        "import time\n",
        "\n",
        "from PIL import Image\n",
        "\n",
        "import cv2 as cv\n",
        "from mtcnn.mtcnn import MTCNN\n",
        "\n",
        "\n",
        "#to resovle colab problem with cv.imshow()\n",
        "from google.colab.patches import cv2_imshow as imshow\n",
        "%matplotlib inline\n"
      ]
    },
    {
      "cell_type": "markdown",
      "source": [
        "# 1.Face detector"
      ],
      "metadata": {
        "id": "sUla_NVuh4QB"
      }
    },
    {
      "cell_type": "code",
      "source": [
        "#get video from drive\n",
        "\n",
        "#Load the Drive helper and mount\n",
        "from google.colab import drive\n",
        "\n",
        "# This will prompt for authorization.\n",
        "drive.mount('/content/drive')\n",
        "!ls \"drive/My Drive/cv project files/\""
      ],
      "metadata": {
        "colab": {
          "base_uri": "https://localhost:8080/"
        },
        "id": "NMnG9Reih2sI",
        "outputId": "496e62a4-649e-4e22-bfc6-0159c2ca6702"
      },
      "execution_count": 191,
      "outputs": [
        {
          "output_type": "stream",
          "name": "stdout",
          "text": [
            "Drive already mounted at /content/drive; to attempt to forcibly remount, call drive.mount(\"/content/drive\", force_remount=True).\n",
            "emos.mp4  EMOTION_DETECTOR_1.pt\n"
          ]
        }
      ]
    },
    {
      "cell_type": "code",
      "source": [
        "from numpy.core.fromnumeric import size\n",
        "fig = plt.figure(figsize=(9, 13))\n",
        "# axis indices starting from 1\n",
        "row=1\n",
        "col=1\n",
        "plot_idx=1\n",
        "path=\"drive/My Drive/cv project files/emos2.mp4\"\n",
        "\n",
        "vcap = cv.VideoCapture(path)\n",
        "\n",
        "FRAM_COUNT = vcap.get(cv.CAP_PROP_FRAME_COUNT)\n",
        "FPS = int(vcap.get(cv.CAP_PROP_FPS))\n",
        "STEP=5*FPS\n",
        "current_time=0\n",
        "\n",
        "# vcap.set(cv.CAP_PROP_POS_FRAMES, 100)\n",
        "face_detector_model = MTCNN()\n",
        "pos = 1\n",
        "SIZE_TO_EM=(48,48)\n",
        "\n",
        "arr_img= []\n",
        "arr_time=[]\n",
        "dic={}\n",
        "while True:\n",
        "    r, frame = vcap.read()\n",
        "    if r:\n",
        "      faces = face_detector_model.detect_faces(frame)\n",
        "      vcap.set(cv.CAP_PROP_POS_FRAMES, pos)\n",
        "      pos += STEP\n",
        "      time_stamp=int(pos/FPS)\n",
        "      # if time_stamp>20 :\n",
        "      #   break\n",
        "      if pos>=FRAM_COUNT-60:\n",
        "        break\n",
        "      for i, item in enumerate(faces):\n",
        "          x,y,w,h = item['box']\n",
        "          cv.rectangle(frame, (x, y),(x+w,y+h),  (0, 200, 120), 2)\n",
        "          croped_image=frame[y:y+h, x:x+w]\n",
        "          resized_image= cv.resize(croped_image, SIZE_TO_EM, interpolation = cv.INTER_AREA)\n",
        "          arr_img.append(resized_image)\n",
        "          arr_time.append(time_stamp)\n",
        "          # ax=fig.add_subplot(8,4,plot_idx)\n",
        "          # ax.set_title(\"time: {}\".format(time_stamp))\n",
        "          # fig.tight_layout()\n",
        "          # plt.imshow(resized_image)\n",
        "          # imshow(resized_image)\n",
        "          plot_idx+=1\n",
        "       \n",
        "    if cv.waitKey(25) & 0xFF == ord(\"q\"):\n",
        "        break\n",
        "\n",
        "vcap.release()\n",
        "cv.destroyAllWindows()\n"
      ],
      "metadata": {
        "colab": {
          "base_uri": "https://localhost:8080/",
          "height": 34
        },
        "id": "SiSYErBvh9eN",
        "outputId": "4115ba72-5707-41f6-f940-bd80100f137e"
      },
      "execution_count": 240,
      "outputs": [
        {
          "output_type": "display_data",
          "data": {
            "text/plain": [
              "<Figure size 648x936 with 0 Axes>"
            ]
          },
          "metadata": {}
        }
      ]
    },
    {
      "cell_type": "code",
      "source": [
        "###################just for tests not used##################\n",
        "train=pd.read_csv(\"/content/data/train.csv\")\n",
        "# test=pd.read_csv(\"/content/data/test.csv\" )\n",
        "# print(train['emotion'].unique())\n",
        "# print(train['emotion'][1])\n",
        "# train.head()"
      ],
      "metadata": {
        "id": "rIYZ0cZOlFJC"
      },
      "execution_count": 193,
      "outputs": []
    },
    {
      "cell_type": "code",
      "source": [
        "train[train['emotion']==6].count()"
      ],
      "metadata": {
        "colab": {
          "base_uri": "https://localhost:8080/"
        },
        "id": "Nk90DzT6Jvbv",
        "outputId": "d8bbe02b-2a3d-49cd-c88a-74f5fe34abf1"
      },
      "execution_count": 194,
      "outputs": [
        {
          "output_type": "execute_result",
          "data": {
            "text/plain": [
              "emotion    4965\n",
              "pixels     4965\n",
              "dtype: int64"
            ]
          },
          "metadata": {},
          "execution_count": 194
        }
      ]
    },
    {
      "cell_type": "code",
      "source": [
        "# train['pixels']=train['pixels'].astype('string')\n",
        "# img=np.fromstring(train['pixels'][0],np.float32 ,sep=' ')\n",
        "# plt.imshow(img.reshape(48,48))"
      ],
      "metadata": {
        "id": "6fg4FKyer1__"
      },
      "execution_count": 195,
      "outputs": []
    },
    {
      "cell_type": "code",
      "source": [
        "class FaceDataSet(pt.utils.data.Dataset):\n",
        "\n",
        "  def __init__(self,csv_file,transform=None):\n",
        "    self.data=pd.read_csv(csv_file)\n",
        "    # convert obj col to string\n",
        "    self.data['pixels']= self.data['pixels'].astype('string')\n",
        "    self.data=self.data[(self.data['emotion']==3 )| (self.data['emotion']==4) | (self.data['emotion']==6 ) ].reset_index()\n",
        "    self.data['emotion'].replace({3:0,4:1,6:2}, inplace=True)\n",
        "    self.data.drop('index', inplace=True, axis=1)\n",
        "    self.transform=transform\n",
        "    \n",
        "  def __len__ (self,):\n",
        "    return len(self.data['pixels'])\n",
        "    \n",
        "\n",
        "  def __getitem__(self,idx):\n",
        "    item=np.fromstring(self.data['pixels'][idx], sep=' ').reshape(48,48)/255\n",
        "    y=self.data['emotion'][idx]\n",
        "\n",
        "    if self.transform:\n",
        "      item=self.transform(item)\n",
        "\n",
        "    return item,y\n",
        "\n",
        "\n"
      ],
      "metadata": {
        "id": "gfYDQ3oNxl0A"
      },
      "execution_count": 196,
      "outputs": []
    },
    {
      "cell_type": "code",
      "source": [
        "device = pt.device(\"cuda\" if pt.cuda.is_available() else \"cpu\")\n",
        "# device=\"cpu\""
      ],
      "metadata": {
        "id": "D7y6VZSJz3-B"
      },
      "execution_count": 197,
      "outputs": []
    },
    {
      "cell_type": "code",
      "source": [
        "from torchvision.transforms.transforms import RandomRotation\n",
        "transforms=trans.Compose([trans.ToTensor()])\n",
        "\n",
        "train_ds=FaceDataSet(\"/content/data/train.csv\", transforms)\n",
        "# test_ds=FaceDataSet(\"/content/data/test.csv\", transforms)\n",
        "\n",
        "BATCH_SIZE=32\n",
        "lr=.001\n",
        "batch_size=64\n",
        "epochs =10\n",
        "\n",
        "train_split=.75\n",
        "valid_split=1-train_split\n",
        "\n",
        "\n",
        "num_train = int(len(train_ds) * train_split) + 1\n",
        "num_valid = int(len(train_ds) * valid_split)\n",
        "\n",
        "train_ds,valid_ds=pt.utils.data.random_split(train_ds,[num_train ,num_valid], generator=pt.Generator().manual_seed(40))\n",
        "train_loader=pt.utils.data.DataLoader(train_ds,batch_size=BATCH_SIZE,shuffle=True)\n",
        "valid_loader=pt.utils.data.DataLoader(valid_ds, batch_size=BATCH_SIZE)\n",
        "# test_loader=pt.utils.data.DataLoader(test_ds,batch_size=BATCH_SIZE)\n"
      ],
      "metadata": {
        "id": "mp2I_Ker8-Rh"
      },
      "execution_count": 198,
      "outputs": []
    },
    {
      "cell_type": "code",
      "source": [
        ""
      ],
      "metadata": {
        "id": "-LbABLfFJqZX"
      },
      "execution_count": 198,
      "outputs": []
    },
    {
      "cell_type": "code",
      "source": [
        "sample=next(iter(train_loader))\n",
        "imgs,labels=sample\n",
        "images= torchvision.utils.make_grid(imgs)\n",
        "plt.imshow(np.transpose(images, (1,2,0)))\n",
        "#  (0=Angry, 1=Disgust, 2=Fear, 3=Happy, 4=Sad, 5=Surprise, 6=Neutral)."
      ],
      "metadata": {
        "colab": {
          "base_uri": "https://localhost:8080/",
          "height": 237
        },
        "id": "pEl1kjzC2oP1",
        "outputId": "2b83f328-3376-428b-8dcb-71f6d4574b4a"
      },
      "execution_count": 199,
      "outputs": [
        {
          "output_type": "execute_result",
          "data": {
            "text/plain": [
              "<matplotlib.image.AxesImage at 0x7f762be5cb10>"
            ]
          },
          "metadata": {},
          "execution_count": 199
        },
        {
          "output_type": "display_data",
          "data": {
            "text/plain": [
              "<Figure size 432x288 with 1 Axes>"
            ],
            "image/png": "[encoded data removed]"
          },
          "metadata": {
            "needs_background": "light"
          }
        }
      ]
    },
    {
      "cell_type": "markdown",
      "metadata": {
        "id": "4HZrMCJRpsI9"
      },
      "source": [
        ""
      ]
    },
    {
      "cell_type": "markdown",
      "metadata": {
        "id": "oeH5cTTHpyMK"
      },
      "source": [
        "# 1. Model "
      ]
    },
    {
      "cell_type": "code",
      "execution_count": 215,
      "metadata": {
        "id": "34Epjopwp1QK"
      },
      "outputs": [],
      "source": [
        "class EmotionDetector(nn.Module):\n",
        "  def __init__(self, in_ch,classes):\n",
        "    super(EmotionDetector,self).__init__()\n",
        "\n",
        "    self.conv1=nn.Conv2d(in_channels=in_ch,out_channels=60, kernel_size=(3,3))\n",
        "    self.relu1=nn.ReLU()\n",
        "    self.bn1=nn.BatchNorm2d(60)\n",
        "    self.maxPool1=nn.MaxPool2d(kernel_size=(2,2), stride=(2,2))\n",
        "\n",
        "\n",
        "    self.conv2=nn.Conv2d(in_channels=60,out_channels=120, kernel_size=(3,3))\n",
        "    self.relu2=nn.ReLU()\n",
        "    self.bn2=nn.BatchNorm2d(120)\n",
        "    self.maxPool2=nn.MaxPool2d(kernel_size=(2,2), stride=(2,2))\n",
        "\n",
        "\n",
        "    self.conv3=nn.Conv2d(in_channels=120,out_channels=240, kernel_size=(3,3))\n",
        "    self.relu3=nn.ReLU()\n",
        "    self.bn3=nn.BatchNorm2d(240)\n",
        "    # self.maxPool3=nn.MaxPool2d(kernel_size=(2,2), stride=(2,2))\n",
        "    #28*28*1 -> 27-13-> 12-6 *80 -> 5*4*100\n",
        "    #    \n",
        "    self.dropout=nn.Dropout2d()\n",
        "\n",
        "    self.conv4=nn.Conv2d(in_channels=240,out_channels=480, kernel_size=(3,3))\n",
        "    self.relu4=nn.ReLU()\n",
        "    self.maxPool4=nn.MaxPool2d(kernel_size=(2,2), stride=(2,2))\n",
        "\n",
        "\n",
        "\n",
        "    # self.conv5=nn.Conv2d(in_channels=120,out_channels=150, kernel_size=(5,5))\n",
        "    # self.relu5=nn.ReLU()\n",
        "    # self.maxPool5=nn.MaxPool2d(kernel_size=(2,2), stride=(1,1))\n",
        "\n",
        "\n",
        "    self.fc1=nn.Linear(in_features=480*3*3,out_features=200)\n",
        "    self.relu_fc1=nn.ReLU()\n",
        "\n",
        "    self.fc2=nn.Linear(in_features=200,out_features=classes)\n",
        "    self.lsm=nn.LogSoftmax(dim=1)\n",
        "\n",
        "  def forward(self,x):\n",
        "    debug=False\n",
        "    x=x.float()\n",
        "    if debug : print(\"input to cv1 \",x.shape)\n",
        "    x=self.conv1(x)\n",
        "    if debug : print(\"input to mxp1\",x.shape)\n",
        "    x=self.bn1(x)\n",
        "    x=self.relu1(x)\n",
        "    x=self.maxPool1(x)\n",
        "    # x=self.dropout(x)\n",
        "\n",
        "\n",
        "    if debug :print(\"input to cv2\",x.shape)\n",
        "    x=self.conv2(x)\n",
        "    x=self.bn2(x)\n",
        "\n",
        "    if debug : print(\"input to mxp2\",x.shape)\n",
        "    x=self.relu2(x)\n",
        "    x=self.maxPool2(x)\n",
        "    # x=self.dropout(x)\n",
        "\n",
        "    if debug : print(\"input to cv3\",x.shape)\n",
        "    x=self.conv3(x)\n",
        "    x=self.bn3(x)\n",
        "    x=self.relu3(x)\n",
        "    if debug : print(\"input to mxp3\",x.shape)\n",
        "    # x=self.maxPool3(x)\n",
        "    x=self.dropout(x)\n",
        "\n",
        "    \n",
        "    x=self.conv4(x)\n",
        "    x=self.relu4(x)\n",
        "    x=self.maxPool4(x)\n",
        "    x=self.dropout(x)\n",
        "    # x=self.conv5(x)\n",
        "    # x=self.relu5(x)\n",
        "    # x=self.maxPool5(x)\n",
        "\n",
        "    if debug : print(\"input to fc1\",x.shape)\n",
        "    x = pt.flatten(x,1)\n",
        "    \n",
        "    x=self.fc1(x)\n",
        "    x=self.relu_fc1(x)\n",
        "    if debug : print(\"input to fc2 \",x.shape)\n",
        "    x=self.fc2(x)\n",
        "    if debug : print(\"input to lsm \",x.shape)\n",
        "    output=self.lsm(x)\n",
        "    if debug : print(\"final output \",x.shape)\n",
        "    return output"
      ]
    },
    {
      "cell_type": "markdown",
      "metadata": {
        "id": "JiCO7D3eu5GC"
      },
      "source": [
        "# 2. Train the Model"
      ]
    },
    {
      "cell_type": "markdown",
      "metadata": {
        "id": "45hxQjP0vXHK"
      },
      "source": [
        "## load and transfrom data"
      ]
    },
    {
      "cell_type": "code",
      "execution_count": 216,
      "metadata": {
        "id": "s5CphfIovbGS",
        "colab": {
          "base_uri": "https://localhost:8080/"
        },
        "outputId": "b3db0560-2bea-4e3f-964b-b880e9e6c05b"
      },
      "outputs": [
        {
          "output_type": "stream",
          "name": "stdout",
          "text": [
            "train is 199\n",
            "validation is 66\n"
          ]
        }
      ],
      "source": [
        "train_steps = len(train_loader.dataset) // batch_size\n",
        "valid_steps = len(valid_loader.dataset) // batch_size\n",
        "print (\"train is {}\\nvalidation is {}\".format(train_steps,valid_steps))"
      ]
    },
    {
      "cell_type": "code",
      "execution_count": 217,
      "metadata": {
        "id": "2XrGfZjhyKnw"
      },
      "outputs": [],
      "source": [
        "CLASSES=3\n",
        "model=EmotionDetector(in_ch=1,classes=CLASSES).to(device)\n",
        "\n",
        "optimizer=optim.Adam(model.parameters(),lr=lr)\n",
        "\n",
        "loss_fn=nn.NLLLoss()\n",
        "\n",
        "obervations = {\n",
        "\t\"train_loss\": [],\n",
        "\t\"train_acc\": [],\n",
        "\t\"val_loss\": [],\n",
        "\t\"val_acc\": []\n",
        "}\n"
      ]
    },
    {
      "cell_type": "code",
      "execution_count": 218,
      "metadata": {
        "id": "LDFEp_FsvVtz",
        "colab": {
          "base_uri": "https://localhost:8080/"
        },
        "outputId": "9a1283b0-0363-4fe4-d0d1-4b85f09b0174"
      },
      "outputs": [
        {
          "output_type": "stream",
          "name": "stdout",
          "text": [
            "[INFO] EPOCH: 1/10\n",
            "Train loss: 1.847581, Train accuracy: 0.5429\n",
            "Val loss: 1.636423, Val accuracy: 0.6308\n",
            "\n",
            "[INFO] EPOCH: 2/10\n",
            "Train loss: 1.532091, Train accuracy: 0.6413\n",
            "Val loss: 1.470672, Val accuracy: 0.6646\n",
            "\n",
            "[INFO] EPOCH: 3/10\n",
            "Train loss: 1.441055, Train accuracy: 0.6666\n",
            "Val loss: 1.428296, Val accuracy: 0.6550\n",
            "\n",
            "[INFO] EPOCH: 4/10\n",
            "Train loss: 1.368999, Train accuracy: 0.6916\n",
            "Val loss: 1.332532, Val accuracy: 0.7025\n",
            "\n",
            "[INFO] EPOCH: 5/10\n",
            "Train loss: 1.319304, Train accuracy: 0.7066\n",
            "Val loss: 1.341021, Val accuracy: 0.7100\n",
            "\n",
            "[INFO] EPOCH: 6/10\n",
            "Train loss: 1.274368, Train accuracy: 0.7178\n",
            "Val loss: 1.296818, Val accuracy: 0.7152\n",
            "\n",
            "[INFO] EPOCH: 7/10\n",
            "Train loss: 1.233931, Train accuracy: 0.7282\n",
            "Val loss: 1.294475, Val accuracy: 0.7143\n",
            "\n",
            "[INFO] EPOCH: 8/10\n",
            "Train loss: 1.190815, Train accuracy: 0.7402\n",
            "Val loss: 1.273893, Val accuracy: 0.7241\n",
            "\n",
            "[INFO] EPOCH: 9/10\n",
            "Train loss: 1.156225, Train accuracy: 0.7471\n",
            "Val loss: 1.268499, Val accuracy: 0.7138\n",
            "\n",
            "[INFO] EPOCH: 10/10\n",
            "Train loss: 1.126735, Train accuracy: 0.7521\n",
            "Val loss: 1.267399, Val accuracy: 0.7255\n",
            "\n"
          ]
        }
      ],
      "source": [
        "# train \n",
        "for ep in range(0, 10):\n",
        "  \n",
        "  model.train()\n",
        "\n",
        "  total_train_loss=0\n",
        "  total_valid_loss=0\n",
        "\n",
        "  train_correct=0\n",
        "  valid_correct=0\n",
        "\n",
        "  for (x,y) in train_loader:\n",
        "    \n",
        "    x,y= (x.to(device), y.to(device) )\n",
        "    \n",
        "    pred= model(x)\n",
        "    loss=loss_fn(pred,y)\n",
        "\n",
        "    optimizer.zero_grad()\n",
        "    loss.backward()\n",
        "    optimizer.step()\n",
        "\n",
        "    total_train_loss+=loss.item()\n",
        "\n",
        "    train_correct+= (pred.argmax(1)==y).type(pt.float).sum().item()\n",
        "\n",
        "\n",
        "  with pt.no_grad():\n",
        "      model.eval()\n",
        "\n",
        "      for (x,y) in valid_loader:\n",
        "         x,y= (x.to(device), y.to(device) )\n",
        "         \n",
        "         pred=model(x)\n",
        "         total_valid_loss+=loss_fn(pred,y)\n",
        "\n",
        "         valid_correct+= (pred.argmax(1)==y).type(pt.float).sum().item()\n",
        "\n",
        "  avg_train_loss=total_train_loss/train_steps\n",
        "  avg_valid_loss= total_valid_loss/valid_steps\n",
        "\n",
        "  train_correct=train_correct/len(train_loader.dataset)\n",
        "  valid_correct=valid_correct/len(valid_loader.dataset)\n",
        "\n",
        "\n",
        "  # update our training history\n",
        "  obervations[\"train_loss\"].append(avg_train_loss)\n",
        "  obervations[\"train_acc\"].append(train_correct)\n",
        "  obervations[\"val_loss\"].append(avg_valid_loss)\n",
        "  obervations[\"val_acc\"].append(valid_correct)\n",
        "  # print the model training and validation information\n",
        "  print(\"[INFO] EPOCH: {}/{}\".format(ep + 1, epochs))\n",
        "  print(\"Train loss: {:.6f}, Train accuracy: {:.4f}\".format(avg_train_loss, train_correct))\n",
        "  print(\"Val loss: {:.6f}, Val accuracy: {:.4f}\\n\".format( avg_valid_loss, valid_correct))  "
      ]
    },
    {
      "cell_type": "code",
      "source": [
        "MODEL_NAME= 'EMOTION_DETECTOR_1.pt'\n",
        "MODEL_PATH = f\"drive/My Drive/cv project files//{MODEL_NAME}\" \n"
      ],
      "metadata": {
        "id": "o-YF3slntBN3"
      },
      "execution_count": 219,
      "outputs": []
    },
    {
      "cell_type": "code",
      "source": [
        "pt.save(model.state_dict(), MODEL_PATH)"
      ],
      "metadata": {
        "id": "coKj9Aq8P-Cu"
      },
      "execution_count": 223,
      "outputs": []
    },
    {
      "cell_type": "markdown",
      "source": [
        "## prediction Second part (Emotions detection model)"
      ],
      "metadata": {
        "id": "dFWZL8Lu-Hoa"
      }
    },
    {
      "cell_type": "code",
      "source": [
        "model=EmotionDetector(in_ch=1,classes=CLASSES).to(device)\n",
        "model.load_state_dict(pt.load(MODEL_PATH))"
      ],
      "metadata": {
        "id": "97aO2kP3GDw1",
        "colab": {
          "base_uri": "https://localhost:8080/"
        },
        "outputId": "5e6d5b44-bc8b-4722-8363-98618c03b3bc"
      },
      "execution_count": 213,
      "outputs": [
        {
          "output_type": "execute_result",
          "data": {
            "text/plain": [
              "<All keys matched successfully>"
            ]
          },
          "metadata": {},
          "execution_count": 213
        }
      ]
    },
    {
      "cell_type": "code",
      "source": [
        "image2 = Image.fromarray(np.uint8(arr_img[0])).convert('L')\n",
        "img = trans.ToTensor()(image2).type(pt.FloatTensor).to(\"cuda\").reshape(1,1,48,48)\n",
        "pred = model(img)\n"
      ],
      "metadata": {
        "id": "c9STa0ANu2j7"
      },
      "execution_count": 229,
      "outputs": []
    },
    {
      "cell_type": "code",
      "source": [
        "image2 = Image.fromarray(np.uint8(arr_img[11])).convert('L')\n",
        "img = trans.ToTensor()(image2).type(pt.FloatTensor).to(\"cuda\").reshape(1,48,48)\n",
        "plt.imshow(img.cpu().numpy()[0])"
      ],
      "metadata": {
        "colab": {
          "base_uri": "https://localhost:8080/",
          "height": 284
        },
        "id": "V1CHdjTt4Mk1",
        "outputId": "352f584c-9e17-430f-c90e-202768d7eb42"
      },
      "execution_count": 230,
      "outputs": [
        {
          "output_type": "execute_result",
          "data": {
            "text/plain": [
              "<matplotlib.image.AxesImage at 0x7f75a8299810>"
            ]
          },
          "metadata": {},
          "execution_count": 230
        },
        {
          "output_type": "display_data",
          "data": {
            "text/plain": [
              "<Figure size 432x288 with 1 Axes>"
            ],
            "image/png": "[encoded data removed]"
          },
          "metadata": {
            "needs_background": "light"
          }
        }
      ]
    },
    {
      "cell_type": "code",
      "source": [
        "output_emo=[]\n",
        "model.eval()\n",
        "with pt.no_grad():\n",
        "  for image, time in zip(arr_img,arr_time):\n",
        "      image2 = Image.fromarray(np.uint8(image)).convert('L')\n",
        "      img = trans.ToTensor()(image2).type(pt.FloatTensor).to(\"cuda\").reshape(1,1,48,48)\n",
        "      pred=pt.exp(model(img))\n",
        "    \n",
        "      idx=pred.argmax(axis=1).cpu().numpy()[0]\n",
        "      output_emo.append(idx)"
      ],
      "metadata": {
        "id": "110hqbB_uEUY"
      },
      "execution_count": 241,
      "outputs": []
    },
    {
      "cell_type": "code",
      "source": [
        "for em, t in zip(output_emo,arr_time):\n",
        "  print(\"{} : {}\\n\".format(em,t))"
      ],
      "metadata": {
        "colab": {
          "base_uri": "https://localhost:8080/"
        },
        "id": "fZZ7oOzX3r8z",
        "outputId": "94e1324e-9a08-4cfa-8212-72174fa0e10e"
      },
      "execution_count": 242,
      "outputs": [
        {
          "output_type": "stream",
          "name": "stdout",
          "text": [
            "2 : 15\n",
            "\n",
            "2 : 35\n",
            "\n",
            "0 : 50\n",
            "\n",
            "1 : 50\n",
            "\n",
            "0 : 60\n",
            "\n",
            "2 : 60\n",
            "\n",
            "1 : 60\n",
            "\n",
            "0 : 60\n",
            "\n",
            "1 : 60\n",
            "\n",
            "1 : 60\n",
            "\n",
            "0 : 65\n",
            "\n",
            "1 : 75\n",
            "\n",
            "1 : 85\n",
            "\n",
            "0 : 90\n",
            "\n",
            "1 : 90\n",
            "\n",
            "1 : 105\n",
            "\n",
            "0 : 115\n",
            "\n",
            "0 : 135\n",
            "\n",
            "0 : 160\n",
            "\n",
            "0 : 185\n",
            "\n",
            "2 : 190\n",
            "\n",
            "0 : 235\n",
            "\n",
            "0 : 240\n",
            "\n",
            "0 : 245\n",
            "\n",
            "0 : 250\n",
            "\n",
            "1 : 250\n",
            "\n",
            "1 : 255\n",
            "\n",
            "0 : 270\n",
            "\n",
            "1 : 270\n",
            "\n",
            "1 : 285\n",
            "\n",
            "0 : 300\n",
            "\n",
            "0 : 310\n",
            "\n",
            "1 : 310\n",
            "\n",
            "2 : 315\n",
            "\n",
            "2 : 325\n",
            "\n",
            "1 : 335\n",
            "\n",
            "0 : 335\n",
            "\n",
            "2 : 355\n",
            "\n",
            "0 : 370\n",
            "\n",
            "0 : 380\n",
            "\n",
            "0 : 385\n",
            "\n",
            "1 : 385\n",
            "\n",
            "0 : 390\n",
            "\n",
            "2 : 410\n",
            "\n"
          ]
        }
      ]
    },
    {
      "cell_type": "code",
      "source": [
        ""
      ],
      "metadata": {
        "id": "xGB_0eDRHzlq"
      },
      "execution_count": null,
      "outputs": []
    }
  ],
  "metadata": {
    "accelerator": "GPU",
    "colab": {
      "name": "Cv Project.ipynb",
      "provenance": [],
      "authorship_tag": "ABX9TyPVYPrxdh8HO8u7RBMtt3vm",
      "include_colab_link": true
    },
    "gpuClass": "standard",
    "kernelspec": {
      "display_name": "Python 3",
      "name": "python3"
    },
    "language_info": {
      "name": "python"
    }
  },
  "nbformat": 4,
  "nbformat_minor": 0
}